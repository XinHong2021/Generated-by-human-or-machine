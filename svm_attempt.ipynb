{
 "cells": [
  {
   "cell_type": "code",
   "execution_count": 1,
   "metadata": {},
   "outputs": [],
   "source": [
    "import numpy as np\n",
    "import pandas as pd\n",
    "from collections import Counter\n",
    "import matplotlib.pyplot as plt\n",
    "import json\n",
    "from sklearn.model_selection import train_test_split\n",
    "from sklearn.metrics import f1_score, accuracy_score, classification_report, confusion_matrix\n",
    "import math\n",
    "from sklearn.preprocessing import MinMaxScaler"
   ]
  },
  {
   "cell_type": "code",
   "execution_count": 39,
   "metadata": {},
   "outputs": [],
   "source": [
    "DIR = '../data/'"
   ]
  },
  {
   "cell_type": "code",
   "execution_count": 2,
   "metadata": {},
   "outputs": [],
   "source": [
    "# read the json file domain1_train.json in to the system\n",
    "domain1 = pd.read_json('data/domain1_train.json', lines=True)\n",
    "\n",
    "# read the json file domain2_train.json in to the system\n",
    "domain2 = pd.read_json('data/domain2_train.json', lines=True)\n",
    "\n",
    "# read test_set.json into the system\n",
    "test = pd.read_json('data/test_set.json', lines=True)"
   ]
  },
  {
   "cell_type": "code",
   "execution_count": 41,
   "metadata": {},
   "outputs": [],
   "source": [
    "# Grouping data for Domain 1\n",
    "dm1_machine, dm1_human = domain1[domain1['label'] == 0], domain1[domain1['label'] == 1]\n",
    "\n",
    "# Grouping data for Domain 2\n",
    "dm2_machine, dm2_human = domain2[domain2['label'] == 0], domain2[domain2['label'] == 1]"
   ]
  },
  {
   "cell_type": "code",
   "execution_count": 3,
   "metadata": {},
   "outputs": [],
   "source": [
    "# repeat the human label for multiple times\n",
    "\n",
    "def replicate(df, multiplication):\n",
    "    \n",
    "    # rows with label 1\n",
    "    label_1_rows = df[df['label'] == 1]\n",
    "    # Replicate the rows\n",
    "    replicated_df = pd.concat([label_1_rows] * (multiplication-1), ignore_index=True)\n",
    "    # Concatenate the original dataframe and the replicated dataframe\n",
    "    result_df = pd.concat([df, replicated_df], ignore_index=True)\n",
    "    \n",
    "    return result_df"
   ]
  },
  {
   "cell_type": "code",
   "execution_count": 4,
   "metadata": {},
   "outputs": [],
   "source": [
    "# random sample with replacement from label 1\n",
    "# label_1_rate: the rate of label 1 in the sampled dataframe, should be between 0 and 1\n",
    "\n",
    "def rated_sample(df, label_1_rate):\n",
    "\n",
    "    sampled_label_0 = df[df['label'] == 0]\n",
    "    label_0_count = len(df[df['label'] == 0])\n",
    "\n",
    "    #calculate the number of label 1 samples\n",
    "    sampled_label_1_count = int(label_1_rate * label_0_count)\n",
    "    \n",
    "    # random sample with replacement from label 1\n",
    "    sampled_label_1 = df[df['label'] == 1].sample(n=sampled_label_1_count, replace=True)\n",
    "\n",
    "    # concatenate the sampled label 0 and sampled label 1\n",
    "    sampled_df = pd.concat([sampled_label_0, sampled_label_1])\n",
    "    \n",
    "    return sampled_df"
   ]
  },
  {
   "cell_type": "code",
   "execution_count": 5,
   "metadata": {},
   "outputs": [],
   "source": [
    "# random sample without replacement from label 0\n",
    "# label_0_rate: the rate of label 0 in the sampled dataframe, can be any number\n",
    "\n",
    "def under_sample(df, label_0_rate):\n",
    "\n",
    "    sampled_label_1 = df[df['label'] == 1]\n",
    "    label_1_count = len(df[df['label'] == 1])\n",
    "\n",
    "    #calculate the number of label 0 samples\n",
    "    sampled_label_0_count = int(label_0_rate * label_1_count)\n",
    "\n",
    "    total_label_0 = df[df['label'] == 0]\n",
    "\n",
    "    # calculate the number needed for each model\n",
    "    model_count = sampled_label_0_count // 7\n",
    "    sampled_label_0 = pd.DataFrame()\n",
    "\n",
    "    # use for loop to sample from each model\n",
    "    for i in range(7):\n",
    "        model = total_label_0[total_label_0['model'] == i]\n",
    "        sampled_model = model.sample(n=model_count, replace=False)\n",
    "        sampled_label_0 = pd.concat([sampled_label_0, sampled_model])\n",
    "\n",
    "    # concatenate the sampled label 0 and sampled label 1\n",
    "    sampled_df = pd.concat([sampled_label_1, sampled_label_0])\n",
    "    \n",
    "    return sampled_df"
   ]
  },
  {
   "cell_type": "code",
   "execution_count": 44,
   "metadata": {},
   "outputs": [
    {
     "data": {
      "text/plain": [
       "1    12750\n",
       "0    12750\n",
       "Name: label, dtype: int64"
      ]
     },
     "execution_count": 44,
     "metadata": {},
     "output_type": "execute_result"
    }
   ],
   "source": [
    "## Bootstrap human instances in domain2\n",
    "# %run explore.ipynb\n",
    "newdomain2 = rated_sample(domain2,1)\n",
    "newdomain2 = newdomain2.sort_index()\n",
    "newdomain2.label.value_counts(dropna=False)"
   ]
  },
  {
   "cell_type": "markdown",
   "metadata": {},
   "source": [
    "train test split"
   ]
  },
  {
   "cell_type": "code",
   "execution_count": 45,
   "metadata": {},
   "outputs": [],
   "source": [
    "# split data for validation\n",
    "# train_domain1, valid_domain1 = train_test_split(domain1,test_size=0.2,random_state=7)\n",
    "# train_domain2, valid_domain2 = train_test_split(newdomain2,test_size=0.2,random_state=7) "
   ]
  },
  {
   "cell_type": "code",
   "execution_count": 130,
   "metadata": {},
   "outputs": [
    {
     "name": "stdout",
     "output_type": "stream",
     "text": [
      "Requirement already satisfied: joblib in c:\\users\\dell\\appdata\\local\\programs\\python\\python311\\lib\\site-packages (1.3.1)Note: you may need to restart the kernel to use updated packages.\n"
     ]
    },
    {
     "name": "stderr",
     "output_type": "stream",
     "text": [
      "\n",
      "[notice] A new release of pip is available: 23.0.1 -> 23.2.1\n",
      "[notice] To update, run: python.exe -m pip install --upgrade pip\n"
     ]
    },
    {
     "name": "stdout",
     "output_type": "stream",
     "text": [
      "\n"
     ]
    }
   ],
   "source": [
    "# pip install joblib"
   ]
  },
  {
   "cell_type": "code",
   "execution_count": 6,
   "metadata": {},
   "outputs": [],
   "source": [
    "from joblib import dump, load"
   ]
  },
  {
   "cell_type": "markdown",
   "metadata": {},
   "source": [
    "## First attempt: Bag of word, with no additional feature"
   ]
  },
  {
   "cell_type": "markdown",
   "metadata": {},
   "source": [
    "### 1. only use Domain 2 to train the model"
   ]
  },
  {
   "cell_type": "markdown",
   "metadata": {},
   "source": [
    "#### **1.1 baseline attempt, no balancing the data**"
   ]
  },
  {
   "cell_type": "code",
   "execution_count": 9,
   "metadata": {},
   "outputs": [],
   "source": [
    "svm_dm2 = load('C:/Users/dell/Desktop/svm_models/svm_dm2.joblib')\n",
    "svm_dm2_vectorizer = load('C:/Users/dell/Desktop/svm_models/svm_dm2_vectorizer.joblib')"
   ]
  },
  {
   "cell_type": "markdown",
   "metadata": {},
   "source": [
    "train test split"
   ]
  },
  {
   "cell_type": "code",
   "execution_count": 46,
   "metadata": {},
   "outputs": [],
   "source": [
    "train_dm2, valid_dm2 = train_test_split(domain2,test_size=0.2,random_state=7) "
   ]
  },
  {
   "cell_type": "code",
   "execution_count": 47,
   "metadata": {},
   "outputs": [
    {
     "name": "stdout",
     "output_type": "stream",
     "text": [
      "training set size (11920, 3)\n",
      "test set size (2980, 3)\n"
     ]
    }
   ],
   "source": [
    "print('training set size {}'.format(train_dm2.shape))\n",
    "print('test set size {}' .format(valid_dm2.shape))"
   ]
  },
  {
   "cell_type": "markdown",
   "metadata": {},
   "source": [
    "produce bag of word on train_dm2"
   ]
  },
  {
   "cell_type": "code",
   "execution_count": 7,
   "metadata": {},
   "outputs": [],
   "source": [
    "from sklearn.feature_extraction.text import CountVectorizer, TfidfVectorizer\n",
    "vectorizer = CountVectorizer()\n",
    "# vectorizer = TfidfVectorizer()"
   ]
  },
  {
   "cell_type": "code",
   "execution_count": 144,
   "metadata": {},
   "outputs": [
    {
     "data": {
      "text/plain": [
       "(11920, 4940)"
      ]
     },
     "execution_count": 144,
     "metadata": {},
     "output_type": "execute_result"
    }
   ],
   "source": [
    "# convert the text data into numeric vectors\n",
    "corpus = [' '.join(str(word_id) for word_id in document) for document in train_dm2['text']]\n",
    "\n",
    "# learn the token dictionary and return document-term matrix\n",
    "train_dm2_vec = vectorizer.fit_transform(corpus)\n",
    "\n",
    "# get column names in domain1\n",
    "train_dm2_vec_col = vectorizer.get_feature_names_out()\n",
    "\n",
    "# get data in domain1\n",
    "train_dm2_Xs = train_dm2_vec.toarray()\n",
    "\n",
    "train_dm2_Xs.shape"
   ]
  },
  {
   "cell_type": "markdown",
   "metadata": {},
   "source": [
    "produce bag of word on valid_dm2"
   ]
  },
  {
   "cell_type": "code",
   "execution_count": 147,
   "metadata": {},
   "outputs": [
    {
     "data": {
      "text/plain": [
       "(2980, 4940)"
      ]
     },
     "execution_count": 147,
     "metadata": {},
     "output_type": "execute_result"
    }
   ],
   "source": [
    "# convert the text data into numeric vectors\n",
    "corpus = [' '.join(str(word_id) for word_id in document) for document in valid_dm2['text']]\n",
    "\n",
    "# learn the token dictionary and return document-term matrix\n",
    "valid_dm2_vec = vectorizer.transform(corpus)\n",
    "\n",
    "# get column names in domain1\n",
    "valid_dm2_vec_col = vectorizer.get_feature_names_out()\n",
    "\n",
    "# get data in domain1\n",
    "valid_dm2_Xs = valid_dm2_vec.toarray()\n",
    "\n",
    "valid_dm2_Xs.shape"
   ]
  },
  {
   "cell_type": "code",
   "execution_count": 51,
   "metadata": {},
   "outputs": [],
   "source": [
    "from sklearn.svm import SVC\n",
    "svm_dm2 = SVC()"
   ]
  },
  {
   "cell_type": "code",
   "execution_count": 52,
   "metadata": {},
   "outputs": [],
   "source": [
    "svm_dm2.fit(train_dm2_Xs, train_dm2['label'])\n",
    "\n",
    "valid_dm2_Xs_pred = svm_dm2.predict(valid_dm2_Xs)"
   ]
  },
  {
   "cell_type": "code",
   "execution_count": 53,
   "metadata": {},
   "outputs": [
    {
     "name": "stdout",
     "output_type": "stream",
     "text": [
      "SVM domain1 training score: 0.875755033557047\n",
      "SVM domain1 valid score: 0.864765100671141\n"
     ]
    }
   ],
   "source": [
    "train_score = svm_dm2.score(train_dm2_Xs, train_dm2['label'])\n",
    "valid_score = svm_dm2.score(valid_dm2_Xs, valid_dm2['label'])\n",
    "\n",
    "print(\"SVM domain1 training score: {}\".format(train_score))\n",
    "print(\"SVM domain1 valid score: {}\".format(valid_score))"
   ]
  },
  {
   "cell_type": "code",
   "execution_count": 54,
   "metadata": {},
   "outputs": [
    {
     "data": {
      "text/plain": [
       "<sklearn.metrics._plot.confusion_matrix.ConfusionMatrixDisplay at 0x1fb59832c90>"
      ]
     },
     "execution_count": 54,
     "metadata": {},
     "output_type": "execute_result"
    },
    {
     "data": {
      "image/png": "[encoded data removed]",
      "text/plain": [
       "<Figure size 640x480 with 2 Axes>"
      ]
     },
     "metadata": {},
     "output_type": "display_data"
    }
   ],
   "source": [
    "from sklearn import metrics\n",
    "cm_dm2 = metrics.ConfusionMatrixDisplay(confusion_matrix=confusion_matrix(valid_dm2['label'], valid_dm2_Xs_pred), display_labels=svm_dm2.classes_)\n",
    "cm_dm2.plot()"
   ]
  },
  {
   "cell_type": "code",
   "execution_count": 55,
   "metadata": {},
   "outputs": [
    {
     "name": "stdout",
     "output_type": "stream",
     "text": [
      "              precision    recall  f1-score   support\n",
      "\n",
      "           0       0.86      1.00      0.93      2577\n",
      "           1       0.00      0.00      0.00       403\n",
      "\n",
      "    accuracy                           0.86      2980\n",
      "   macro avg       0.43      0.50      0.46      2980\n",
      "weighted avg       0.75      0.86      0.80      2980\n",
      "\n"
     ]
    },
    {
     "name": "stderr",
     "output_type": "stream",
     "text": [
      "c:\\Users\\dell\\AppData\\Local\\Programs\\Python\\Python311\\Lib\\site-packages\\sklearn\\metrics\\_classification.py:1469: UndefinedMetricWarning: Precision and F-score are ill-defined and being set to 0.0 in labels with no predicted samples. Use `zero_division` parameter to control this behavior.\n",
      "  _warn_prf(average, modifier, msg_start, len(result))\n",
      "c:\\Users\\dell\\AppData\\Local\\Programs\\Python\\Python311\\Lib\\site-packages\\sklearn\\metrics\\_classification.py:1469: UndefinedMetricWarning: Precision and F-score are ill-defined and being set to 0.0 in labels with no predicted samples. Use `zero_division` parameter to control this behavior.\n",
      "  _warn_prf(average, modifier, msg_start, len(result))\n",
      "c:\\Users\\dell\\AppData\\Local\\Programs\\Python\\Python311\\Lib\\site-packages\\sklearn\\metrics\\_classification.py:1469: UndefinedMetricWarning: Precision and F-score are ill-defined and being set to 0.0 in labels with no predicted samples. Use `zero_division` parameter to control this behavior.\n",
      "  _warn_prf(average, modifier, msg_start, len(result))\n"
     ]
    }
   ],
   "source": [
    "print(classification_report(valid_dm2['label'], valid_dm2_Xs_pred))"
   ]
  },
  {
   "cell_type": "code",
   "execution_count": 56,
   "metadata": {},
   "outputs": [
    {
     "name": "stdout",
     "output_type": "stream",
     "text": [
      "0.46373942774878535\n"
     ]
    }
   ],
   "source": [
    "print(f1_score(valid_dm2['label'], valid_dm2_Xs_pred, average='macro'))"
   ]
  },
  {
   "cell_type": "code",
   "execution_count": 145,
   "metadata": {},
   "outputs": [
    {
     "data": {
      "text/plain": [
       "['svm_models/svm_dm2_vectorizer.joblib']"
      ]
     },
     "execution_count": 145,
     "metadata": {},
     "output_type": "execute_result"
    }
   ],
   "source": [
    "dump(svm_dm2, 'svm_models/svm_dm2.joblib')\n",
    "dump(vectorizer, 'svm_models/svm_dm2_vectorizer.joblib')"
   ]
  },
  {
   "cell_type": "markdown",
   "metadata": {},
   "source": [
    "#### **1.2 try to solve the imbalance problem by rated_sample to 1:1**"
   ]
  },
  {
   "cell_type": "code",
   "execution_count": 11,
   "metadata": {},
   "outputs": [],
   "source": [
    "svm_newdm2 = load('C:/Users/dell/Desktop/svm_models/svm_newdm2.joblib')\n",
    "svm_newdm2_vectorizer = load('C:/Users/dell/Desktop/svm_models/svm_newdm2_vectorizer.joblib')"
   ]
  },
  {
   "cell_type": "markdown",
   "metadata": {},
   "source": [
    "balance data by self-defined bootstrap method"
   ]
  },
  {
   "cell_type": "code",
   "execution_count": 80,
   "metadata": {},
   "outputs": [
    {
     "data": {
      "text/plain": [
       "1    12750\n",
       "0    12750\n",
       "Name: label, dtype: int64"
      ]
     },
     "execution_count": 80,
     "metadata": {},
     "output_type": "execute_result"
    }
   ],
   "source": [
    "newdomain2 = rated_sample(domain2,0.5)\n",
    "newdomain2 = newdomain2.sort_index()\n",
    "newdomain2.label.value_counts(dropna=False)"
   ]
  },
  {
   "cell_type": "markdown",
   "metadata": {},
   "source": [
    "train test split"
   ]
  },
  {
   "cell_type": "code",
   "execution_count": 95,
   "metadata": {},
   "outputs": [],
   "source": [
    "train_newdm2, valid_newdm2 = train_test_split(newdomain2,test_size=0.2,random_state=7) "
   ]
  },
  {
   "cell_type": "code",
   "execution_count": 97,
   "metadata": {},
   "outputs": [
    {
     "data": {
      "text/html": [
       "<div>\n",
       "<style scoped>\n",
       "    .dataframe tbody tr th:only-of-type {\n",
       "        vertical-align: middle;\n",
       "    }\n",
       "\n",
       "    .dataframe tbody tr th {\n",
       "        vertical-align: top;\n",
       "    }\n",
       "\n",
       "    .dataframe thead th {\n",
       "        text-align: right;\n",
       "    }\n",
       "</style>\n",
       "<table border=\"1\" class=\"dataframe\">\n",
       "  <thead>\n",
       "    <tr style=\"text-align: right;\">\n",
       "      <th></th>\n",
       "      <th>text</th>\n",
       "      <th>label</th>\n",
       "      <th>model</th>\n",
       "    </tr>\n",
       "  </thead>\n",
       "  <tbody>\n",
       "    <tr>\n",
       "      <th>1758</th>\n",
       "      <td>[397, 5, 146, 2, 106, 0, 40, 2300, 3739, 4258,...</td>\n",
       "      <td>1</td>\n",
       "      <td>NaN</td>\n",
       "    </tr>\n",
       "    <tr>\n",
       "      <th>7808</th>\n",
       "      <td>[2744, 0, 7, 756, 4, 0, 1595, 22, 0, 1, 451, 2...</td>\n",
       "      <td>0</td>\n",
       "      <td>1.0</td>\n",
       "    </tr>\n",
       "    <tr>\n",
       "      <th>789</th>\n",
       "      <td>[10, 2157, 1, 21, 424, 3125, 958, 65, 54, 1, 5...</td>\n",
       "      <td>1</td>\n",
       "      <td>NaN</td>\n",
       "    </tr>\n",
       "    <tr>\n",
       "      <th>729</th>\n",
       "      <td>[11, 147, 9, 5, 464, 0, 392, 12, 0, 4894, 1, 4...</td>\n",
       "      <td>1</td>\n",
       "      <td>NaN</td>\n",
       "    </tr>\n",
       "    <tr>\n",
       "      <th>13380</th>\n",
       "      <td>[0, 3053, 0, 0, 10, 1133, 385, 6, 0, 4, 0, 226...</td>\n",
       "      <td>0</td>\n",
       "      <td>3.0</td>\n",
       "    </tr>\n",
       "    <tr>\n",
       "      <th>14503</th>\n",
       "      <td>[2, 4807, 3224, 1, 13, 8, 15, 467, 6, 163, 471...</td>\n",
       "      <td>0</td>\n",
       "      <td>6.0</td>\n",
       "    </tr>\n",
       "    <tr>\n",
       "      <th>1317</th>\n",
       "      <td>[0, 5, 1984, 3907, 3, 7, 0, 13, 1, 42, 64, 391...</td>\n",
       "      <td>1</td>\n",
       "      <td>NaN</td>\n",
       "    </tr>\n",
       "    <tr>\n",
       "      <th>409</th>\n",
       "      <td>[0, 2088, 1528, 100, 0, 22, 14, 0, 4, 0, 2, 10...</td>\n",
       "      <td>1</td>\n",
       "      <td>NaN</td>\n",
       "    </tr>\n",
       "    <tr>\n",
       "      <th>8512</th>\n",
       "      <td>[304, 57, 2, 253, 386, 79, 0, 0, 1, 13, 914, 6...</td>\n",
       "      <td>0</td>\n",
       "      <td>0.0</td>\n",
       "    </tr>\n",
       "    <tr>\n",
       "      <th>1525</th>\n",
       "      <td>[5, 0, 0, 2034, 867, 4, 375, 19, 5, 0, 1245, 1...</td>\n",
       "      <td>1</td>\n",
       "      <td>NaN</td>\n",
       "    </tr>\n",
       "  </tbody>\n",
       "</table>\n",
       "</div>"
      ],
      "text/plain": [
       "                                                    text  label  model\n",
       "1758   [397, 5, 146, 2, 106, 0, 40, 2300, 3739, 4258,...      1    NaN\n",
       "7808   [2744, 0, 7, 756, 4, 0, 1595, 22, 0, 1, 451, 2...      0    1.0\n",
       "789    [10, 2157, 1, 21, 424, 3125, 958, 65, 54, 1, 5...      1    NaN\n",
       "729    [11, 147, 9, 5, 464, 0, 392, 12, 0, 4894, 1, 4...      1    NaN\n",
       "13380  [0, 3053, 0, 0, 10, 1133, 385, 6, 0, 4, 0, 226...      0    3.0\n",
       "14503  [2, 4807, 3224, 1, 13, 8, 15, 467, 6, 163, 471...      0    6.0\n",
       "1317   [0, 5, 1984, 3907, 3, 7, 0, 13, 1, 42, 64, 391...      1    NaN\n",
       "409    [0, 2088, 1528, 100, 0, 22, 14, 0, 4, 0, 2, 10...      1    NaN\n",
       "8512   [304, 57, 2, 253, 386, 79, 0, 0, 1, 13, 914, 6...      0    0.0\n",
       "1525   [5, 0, 0, 2034, 867, 4, 375, 19, 5, 0, 1245, 1...      1    NaN"
      ]
     },
     "execution_count": 97,
     "metadata": {},
     "output_type": "execute_result"
    }
   ],
   "source": [
    "valid_newdm2.head(10)"
   ]
  },
  {
   "cell_type": "code",
   "execution_count": 96,
   "metadata": {},
   "outputs": [
    {
     "name": "stdout",
     "output_type": "stream",
     "text": [
      "training set size (20400, 3)\n",
      "test set size (5100, 3)\n"
     ]
    }
   ],
   "source": [
    "print('training set size {}'.format(train_newdm2.shape))\n",
    "print('test set size {}' .format(valid_newdm2.shape))"
   ]
  },
  {
   "cell_type": "markdown",
   "metadata": {},
   "source": [
    "produce bag of word on train_dm2"
   ]
  },
  {
   "cell_type": "code",
   "execution_count": 83,
   "metadata": {},
   "outputs": [],
   "source": [
    "from sklearn.feature_extraction.text import CountVectorizer, TfidfVectorizer\n",
    "vectorizer = CountVectorizer()\n",
    "# vectorizer = TfidfVectorizer()"
   ]
  },
  {
   "cell_type": "code",
   "execution_count": 152,
   "metadata": {},
   "outputs": [
    {
     "data": {
      "text/plain": [
       "(20400, 4942)"
      ]
     },
     "execution_count": 152,
     "metadata": {},
     "output_type": "execute_result"
    }
   ],
   "source": [
    "# convert the text data into numeric vectors\n",
    "corpus = [' '.join(str(word_id) for word_id in document) for document in train_newdm2['text']]\n",
    "\n",
    "# learn the token dictionary and return document-term matrix\n",
    "train_newdm2_vec = vectorizer.fit_transform(corpus)\n",
    "\n",
    "# get column names in domain1\n",
    "train_newdm2_vec_col = vectorizer.get_feature_names_out()\n",
    "\n",
    "# get data in domain1\n",
    "train_newdm2_Xs = train_newdm2_vec.toarray()\n",
    "\n",
    "train_newdm2_Xs.shape"
   ]
  },
  {
   "cell_type": "markdown",
   "metadata": {},
   "source": [
    "produce bag of word on valid_dm2"
   ]
  },
  {
   "cell_type": "code",
   "execution_count": 156,
   "metadata": {},
   "outputs": [
    {
     "data": {
      "text/plain": [
       "(5100, 4942)"
      ]
     },
     "execution_count": 156,
     "metadata": {},
     "output_type": "execute_result"
    }
   ],
   "source": [
    "# convert the text data into numeric vectors\n",
    "corpus = [' '.join(str(word_id) for word_id in document) for document in valid_newdm2['text']]\n",
    "\n",
    "# learn the token dictionary and return document-term matrix\n",
    "valid_newdm2_vec = vectorizer.transform(corpus)\n",
    "\n",
    "# get column names in domain1\n",
    "valid_newdm2_vec_col = vectorizer.get_feature_names_out()\n",
    "\n",
    "# get data in domain1\n",
    "valid_newdm2_Xs = valid_newdm2_vec.toarray()\n",
    "\n",
    "valid_newdm2_Xs.shape"
   ]
  },
  {
   "cell_type": "code",
   "execution_count": 86,
   "metadata": {},
   "outputs": [],
   "source": [
    "from sklearn.svm import SVC\n",
    "svm_newdm2 = SVC()"
   ]
  },
  {
   "cell_type": "code",
   "execution_count": null,
   "metadata": {},
   "outputs": [],
   "source": [
    "svm_newdm2.fit(train_newdm2_Xs, train_newdm2['label'])\n",
    "\n",
    "valid_newdm2_Xs_pred = svm_newdm2.predict(valid_newdm2_Xs)"
   ]
  },
  {
   "cell_type": "code",
   "execution_count": 110,
   "metadata": {},
   "outputs": [
    {
     "name": "stdout",
     "output_type": "stream",
     "text": [
      "SVM domain1 training score: 0.8692647058823529\n",
      "SVM domain1 valid score: 0.8249019607843138\n"
     ]
    }
   ],
   "source": [
    "train_score = svm_newdm2.score(train_newdm2_Xs, train_newdm2['label'])\n",
    "valid_score = svm_newdm2.score(valid_newdm2_Xs, valid_newdm2['label'])\n",
    "\n",
    "print(\"SVM domain2 training score: {}\".format(train_score))\n",
    "print(\"SVM domain2 valid score: {}\".format(valid_score))"
   ]
  },
  {
   "cell_type": "code",
   "execution_count": 107,
   "metadata": {},
   "outputs": [
    {
     "data": {
      "text/plain": [
       "<sklearn.metrics._plot.confusion_matrix.ConfusionMatrixDisplay at 0x1fb5abc4350>"
      ]
     },
     "execution_count": 107,
     "metadata": {},
     "output_type": "execute_result"
    },
    {
     "data": {
      "image/png": "[encoded data removed]",
      "text/plain": [
       "<Figure size 640x480 with 2 Axes>"
      ]
     },
     "metadata": {},
     "output_type": "display_data"
    }
   ],
   "source": [
    "from sklearn import metrics\n",
    "cm_dm2 = metrics.ConfusionMatrixDisplay(confusion_matrix=confusion_matrix(valid_newdm2['label'], valid_newdm2_Xs_pred), display_labels=svm_newdm2.classes_)\n",
    "cm_dm2.plot()"
   ]
  },
  {
   "cell_type": "code",
   "execution_count": 108,
   "metadata": {},
   "outputs": [
    {
     "name": "stdout",
     "output_type": "stream",
     "text": [
      "              precision    recall  f1-score   support\n",
      "\n",
      "           0       0.83      0.83      0.83      2628\n",
      "           1       0.82      0.82      0.82      2472\n",
      "\n",
      "    accuracy                           0.82      5100\n",
      "   macro avg       0.82      0.82      0.82      5100\n",
      "weighted avg       0.82      0.82      0.82      5100\n",
      "\n"
     ]
    }
   ],
   "source": [
    "print(classification_report(valid_newdm2['label'], valid_newdm2_Xs_pred))"
   ]
  },
  {
   "cell_type": "code",
   "execution_count": 109,
   "metadata": {},
   "outputs": [
    {
     "name": "stdout",
     "output_type": "stream",
     "text": [
      "0.8247272878134337\n"
     ]
    }
   ],
   "source": [
    "print(f1_score(valid_newdm2['label'], valid_newdm2_Xs_pred, average='macro'))"
   ]
  },
  {
   "cell_type": "code",
   "execution_count": 153,
   "metadata": {},
   "outputs": [
    {
     "data": {
      "text/plain": [
       "['svm_models/svm_newdm2_vectorizer.joblib']"
      ]
     },
     "execution_count": 153,
     "metadata": {},
     "output_type": "execute_result"
    }
   ],
   "source": [
    "dump(svm_newdm2, 'svm_models/svm_newdm2.joblib')\n",
    "dump(vectorizer, 'svm_models/svm_newdm2_vectorizer.joblib')"
   ]
  },
  {
   "cell_type": "markdown",
   "metadata": {},
   "source": [
    "#### **1.3 try to solve the imbalance problem by under_sample to 1:1**"
   ]
  },
  {
   "cell_type": "code",
   "execution_count": 7,
   "metadata": {},
   "outputs": [],
   "source": [
    "svm_underdm2 = load('C:/Users/dell/Desktop/svm_models/svm_underdm2.joblib')\n",
    "svm_underdm2_vectorizer = load('C:/Users/dell/Desktop/svm_models/svm_underdm2_vectorizer.joblib')"
   ]
  },
  {
   "cell_type": "code",
   "execution_count": 8,
   "metadata": {},
   "outputs": [
    {
     "data": {
      "text/plain": [
       "1    2150\n",
       "0    2149\n",
       "Name: label, dtype: int64"
      ]
     },
     "execution_count": 8,
     "metadata": {},
     "output_type": "execute_result"
    }
   ],
   "source": [
    "under_dm2 = under_sample(domain2,1)\n",
    "under_dm2 = under_dm2.sort_index()\n",
    "under_dm2.label.value_counts(dropna=False)"
   ]
  },
  {
   "cell_type": "markdown",
   "metadata": {},
   "source": [
    "train test split"
   ]
  },
  {
   "cell_type": "code",
   "execution_count": 13,
   "metadata": {},
   "outputs": [],
   "source": [
    "train_underdm2, valid_underdm2 = train_test_split(under_dm2,test_size=0.2,random_state=7) "
   ]
  },
  {
   "cell_type": "code",
   "execution_count": 14,
   "metadata": {},
   "outputs": [
    {
     "data": {
      "text/html": [
       "<div>\n",
       "<style scoped>\n",
       "    .dataframe tbody tr th:only-of-type {\n",
       "        vertical-align: middle;\n",
       "    }\n",
       "\n",
       "    .dataframe tbody tr th {\n",
       "        vertical-align: top;\n",
       "    }\n",
       "\n",
       "    .dataframe thead th {\n",
       "        text-align: right;\n",
       "    }\n",
       "</style>\n",
       "<table border=\"1\" class=\"dataframe\">\n",
       "  <thead>\n",
       "    <tr style=\"text-align: right;\">\n",
       "      <th></th>\n",
       "      <th>text</th>\n",
       "      <th>label</th>\n",
       "      <th>model</th>\n",
       "    </tr>\n",
       "  </thead>\n",
       "  <tbody>\n",
       "    <tr>\n",
       "      <th>11715</th>\n",
       "      <td>[26, 75, 1707, 5, 1182, 8, 15, 2429, 1, 14, 10...</td>\n",
       "      <td>0</td>\n",
       "      <td>6.0</td>\n",
       "    </tr>\n",
       "    <tr>\n",
       "      <th>3091</th>\n",
       "      <td>[10, 694, 16, 21, 948, 4348, 940, 1, 14, 10, 6...</td>\n",
       "      <td>0</td>\n",
       "      <td>6.0</td>\n",
       "    </tr>\n",
       "    <tr>\n",
       "      <th>1470</th>\n",
       "      <td>[175, 0, 0, 24, 2, 0, 299, 6, 2, 106, 0, 3397,...</td>\n",
       "      <td>1</td>\n",
       "      <td>NaN</td>\n",
       "    </tr>\n",
       "    <tr>\n",
       "      <th>652</th>\n",
       "      <td>[16, 120, 0, 2173, 3406, 11, 171, 39, 316, 18,...</td>\n",
       "      <td>1</td>\n",
       "      <td>NaN</td>\n",
       "    </tr>\n",
       "    <tr>\n",
       "      <th>5770</th>\n",
       "      <td>[349, 791, 17, 4, 3431, 54, 5, 900, 205, 6, 82...</td>\n",
       "      <td>0</td>\n",
       "      <td>0.0</td>\n",
       "    </tr>\n",
       "    <tr>\n",
       "      <th>638</th>\n",
       "      <td>[2, 659, 106, 17, 9, 5, 69, 0, 1, 2, 170, 88, ...</td>\n",
       "      <td>1</td>\n",
       "      <td>NaN</td>\n",
       "    </tr>\n",
       "    <tr>\n",
       "      <th>325</th>\n",
       "      <td>[63, 2, 3190, 2365, 62, 166, 299, 1099, 385, 1...</td>\n",
       "      <td>1</td>\n",
       "      <td>NaN</td>\n",
       "    </tr>\n",
       "    <tr>\n",
       "      <th>10658</th>\n",
       "      <td>[42, 133, 4, 5, 1576, 7, 250, 45, 191, 1, 2, 2...</td>\n",
       "      <td>0</td>\n",
       "      <td>1.0</td>\n",
       "    </tr>\n",
       "    <tr>\n",
       "      <th>10989</th>\n",
       "      <td>[2, 1826, 606, 1467, 64, 31, 1038, 1, 2, 663, ...</td>\n",
       "      <td>0</td>\n",
       "      <td>0.0</td>\n",
       "    </tr>\n",
       "    <tr>\n",
       "      <th>3228</th>\n",
       "      <td>[10, 443, 7, 158, 2542, 6, 0, 16, 36, 922, 317...</td>\n",
       "      <td>0</td>\n",
       "      <td>5.0</td>\n",
       "    </tr>\n",
       "  </tbody>\n",
       "</table>\n",
       "</div>"
      ],
      "text/plain": [
       "                                                    text  label  model\n",
       "11715  [26, 75, 1707, 5, 1182, 8, 15, 2429, 1, 14, 10...      0    6.0\n",
       "3091   [10, 694, 16, 21, 948, 4348, 940, 1, 14, 10, 6...      0    6.0\n",
       "1470   [175, 0, 0, 24, 2, 0, 299, 6, 2, 106, 0, 3397,...      1    NaN\n",
       "652    [16, 120, 0, 2173, 3406, 11, 171, 39, 316, 18,...      1    NaN\n",
       "5770   [349, 791, 17, 4, 3431, 54, 5, 900, 205, 6, 82...      0    0.0\n",
       "638    [2, 659, 106, 17, 9, 5, 69, 0, 1, 2, 170, 88, ...      1    NaN\n",
       "325    [63, 2, 3190, 2365, 62, 166, 299, 1099, 385, 1...      1    NaN\n",
       "10658  [42, 133, 4, 5, 1576, 7, 250, 45, 191, 1, 2, 2...      0    1.0\n",
       "10989  [2, 1826, 606, 1467, 64, 31, 1038, 1, 2, 663, ...      0    0.0\n",
       "3228   [10, 443, 7, 158, 2542, 6, 0, 16, 36, 922, 317...      0    5.0"
      ]
     },
     "execution_count": 14,
     "metadata": {},
     "output_type": "execute_result"
    }
   ],
   "source": [
    "valid_underdm2.head(10)"
   ]
  },
  {
   "cell_type": "code",
   "execution_count": 15,
   "metadata": {},
   "outputs": [
    {
     "name": "stdout",
     "output_type": "stream",
     "text": [
      "training set size (3439, 3)\n",
      "test set size (860, 3)\n"
     ]
    }
   ],
   "source": [
    "print('training set size {}'.format(train_underdm2.shape))\n",
    "print('test set size {}' .format(valid_underdm2.shape))"
   ]
  },
  {
   "cell_type": "markdown",
   "metadata": {},
   "source": [
    "produce bag of word on train_dm2"
   ]
  },
  {
   "cell_type": "code",
   "execution_count": 17,
   "metadata": {},
   "outputs": [],
   "source": [
    "from sklearn.feature_extraction.text import CountVectorizer, TfidfVectorizer\n",
    "svm_underdm2_vectorizer = CountVectorizer()\n",
    "# vectorizer = TfidfVectorizer()"
   ]
  },
  {
   "cell_type": "code",
   "execution_count": 19,
   "metadata": {},
   "outputs": [
    {
     "data": {
      "text/plain": [
       "(3439, 4904)"
      ]
     },
     "execution_count": 19,
     "metadata": {},
     "output_type": "execute_result"
    }
   ],
   "source": [
    "# convert the text data into numeric vectors\n",
    "corpus = [' '.join(str(word_id) for word_id in document) for document in train_underdm2['text']]\n",
    "\n",
    "# learn the token dictionary and return document-term matrix\n",
    "train_underdm2_vec = svm_underdm2_vectorizer.fit_transform(corpus)\n",
    "\n",
    "# get data in domain1\n",
    "train_underdm2_Xs = train_underdm2_vec.toarray()\n",
    "\n",
    "train_underdm2_Xs.shape"
   ]
  },
  {
   "cell_type": "markdown",
   "metadata": {},
   "source": [
    "produce bag of word on valid_dm2"
   ]
  },
  {
   "cell_type": "code",
   "execution_count": 20,
   "metadata": {},
   "outputs": [
    {
     "data": {
      "text/plain": [
       "(860, 4904)"
      ]
     },
     "execution_count": 20,
     "metadata": {},
     "output_type": "execute_result"
    }
   ],
   "source": [
    "# convert the text data into numeric vectors\n",
    "corpus = [' '.join(str(word_id) for word_id in document) for document in valid_underdm2['text']]\n",
    "\n",
    "# learn the token dictionary and return document-term matrix\n",
    "valid_underdm2_vec = svm_underdm2_vectorizer.transform(corpus)\n",
    "\n",
    "# get data in domain1\n",
    "valid_underdm2_Xs = valid_underdm2_vec.toarray()\n",
    "\n",
    "valid_underdm2_Xs.shape"
   ]
  },
  {
   "cell_type": "code",
   "execution_count": 21,
   "metadata": {},
   "outputs": [],
   "source": [
    "from sklearn.svm import SVC\n",
    "svm_underdm2 = SVC()"
   ]
  },
  {
   "cell_type": "code",
   "execution_count": 22,
   "metadata": {},
   "outputs": [],
   "source": [
    "svm_underdm2.fit(train_underdm2_Xs, train_underdm2['label'])\n",
    "\n",
    "valid_underdm2_Xs_pred = svm_underdm2.predict(valid_underdm2_Xs)"
   ]
  },
  {
   "cell_type": "code",
   "execution_count": 23,
   "metadata": {},
   "outputs": [
    {
     "name": "stdout",
     "output_type": "stream",
     "text": [
      "SVM domain2 training score: 0.7705728409421343\n",
      "SVM domain2 valid score: 0.6465116279069767\n"
     ]
    }
   ],
   "source": [
    "train_score = svm_underdm2.score(train_underdm2_Xs, train_underdm2['label'])\n",
    "valid_score = svm_underdm2.score(valid_underdm2_Xs, valid_underdm2['label'])\n",
    "\n",
    "print(\"SVM domain2 training score: {}\".format(train_score))\n",
    "print(\"SVM domain2 valid score: {}\".format(valid_score))"
   ]
  },
  {
   "cell_type": "code",
   "execution_count": 24,
   "metadata": {},
   "outputs": [
    {
     "data": {
      "text/plain": [
       "<sklearn.metrics._plot.confusion_matrix.ConfusionMatrixDisplay at 0x13237cc9b90>"
      ]
     },
     "execution_count": 24,
     "metadata": {},
     "output_type": "execute_result"
    },
    {
     "data": {
      "image/png": "[encoded data removed]",
      "text/plain": [
       "<Figure size 640x480 with 2 Axes>"
      ]
     },
     "metadata": {},
     "output_type": "display_data"
    }
   ],
   "source": [
    "from sklearn import metrics\n",
    "cm_dm2 = metrics.ConfusionMatrixDisplay(confusion_matrix=confusion_matrix(valid_underdm2['label'], valid_underdm2_Xs_pred), display_labels=svm_underdm2.classes_)\n",
    "cm_dm2.plot()"
   ]
  },
  {
   "cell_type": "code",
   "execution_count": 25,
   "metadata": {},
   "outputs": [
    {
     "name": "stdout",
     "output_type": "stream",
     "text": [
      "              precision    recall  f1-score   support\n",
      "\n",
      "           0       0.62      0.72      0.67       424\n",
      "           1       0.68      0.57      0.62       436\n",
      "\n",
      "    accuracy                           0.65       860\n",
      "   macro avg       0.65      0.65      0.64       860\n",
      "weighted avg       0.65      0.65      0.64       860\n",
      "\n"
     ]
    }
   ],
   "source": [
    "print(classification_report(valid_underdm2['label'], valid_underdm2_Xs_pred))"
   ]
  },
  {
   "cell_type": "code",
   "execution_count": 27,
   "metadata": {},
   "outputs": [
    {
     "name": "stdout",
     "output_type": "stream",
     "text": [
      "0.6448964734134164\n"
     ]
    }
   ],
   "source": [
    "print(f1_score(valid_underdm2['label'], valid_underdm2_Xs_pred, average='macro'))"
   ]
  },
  {
   "cell_type": "code",
   "execution_count": 28,
   "metadata": {},
   "outputs": [
    {
     "data": {
      "text/plain": [
       "['C:/Users/dell/Desktop/svm_models/svm_underdm2_vectorizer.joblib']"
      ]
     },
     "execution_count": 28,
     "metadata": {},
     "output_type": "execute_result"
    }
   ],
   "source": [
    "dump(svm_underdm2, 'C:/Users/dell/Desktop/svm_models/svm_underdm2.joblib')\n",
    "dump(svm_underdm2_vectorizer, 'C:/Users/dell/Desktop/svm_models/svm_underdm2_vectorizer.joblib')"
   ]
  },
  {
   "cell_type": "markdown",
   "metadata": {},
   "source": [
    "use domain 1 data as validation"
   ]
  },
  {
   "cell_type": "code",
   "execution_count": 9,
   "metadata": {},
   "outputs": [
    {
     "name": "stdout",
     "output_type": "stream",
     "text": [
      "SVM domain1 valid score: 0.4658974358974359\n",
      "0.3287214141397281\n"
     ]
    }
   ],
   "source": [
    "# use domain 1 data as the validation set, test the svm_underdm2 accuracy\n",
    "\n",
    "# use valid_dm1 as the validation set, test the svm_underdm2 accuracy\n",
    "train_dm1, valid_dm1 = train_test_split(domain1,test_size=0.2,random_state=7) \n",
    "\n",
    "# predict the label for valid_dm1\n",
    "\n",
    "# convert the text data into numeric vectors\n",
    "corpus = [' '.join(str(word_id) for word_id in document) for document in valid_dm1['text']]\n",
    "# learn the token dictionary and return document-term matrix\n",
    "valid_dm1_vec = svm_underdm2_vectorizer.transform(corpus)\n",
    "# get data in domain1\n",
    "valid_dm1_Xs = valid_dm1_vec.toarray()\n",
    "\n",
    "valid_dm1_pred = svm_underdm2.predict(valid_dm1_Xs)\n",
    "\n",
    "# calculate the accuracy\n",
    "valid_dm1_score = svm_underdm2.score(valid_dm1_Xs, valid_dm1['label'])\n",
    "print(\"SVM domain1 valid score: {}\".format(valid_dm1_score))\n",
    "# calculate the f1 score\n",
    "print(f1_score(valid_dm1['label'], valid_dm1_pred, average='macro'))\n"
   ]
  },
  {
   "cell_type": "markdown",
   "metadata": {},
   "source": [
    "use domain fusion as validation"
   ]
  },
  {
   "cell_type": "code",
   "execution_count": 10,
   "metadata": {},
   "outputs": [
    {
     "name": "stdout",
     "output_type": "stream",
     "text": [
      "SVM domain1 valid score: 0.5172268907563026\n",
      "0.42867242837095115\n"
     ]
    }
   ],
   "source": [
    "domain1_mod = domain1.copy()\n",
    "domain1_mod[\"model\"] = 7\n",
    "under_balance_dm = pd.concat([domain1_mod, under_dm2], ignore_index=True)\n",
    "# under_balance_dm.shape\n",
    "\n",
    "train_under_balance_dm, valid_under_balance_dm = train_test_split(under_balance_dm,test_size=0.2,random_state=7) \n",
    "\n",
    "# predict the label for valid_under_balance_dm\n",
    "\n",
    "# convert the text data into numeric vectors\n",
    "corpus = [' '.join(str(word_id) for word_id in document) for document in valid_under_balance_dm['text']]\n",
    "# learn the token dictionary and return document-term matrix\n",
    "valid_under_balance_dm_vec = svm_underdm2_vectorizer.transform(corpus)\n",
    "# get data in domain\n",
    "valid_under_balance_dm_Xs = valid_under_balance_dm_vec.toarray()\n",
    "\n",
    "valid_under_balance_dm_pred = svm_underdm2.predict(valid_under_balance_dm_Xs)\n",
    "\n",
    "# calculate the accuracy\n",
    "valid_under_balance_dm_score = svm_underdm2.score(valid_under_balance_dm_Xs, valid_under_balance_dm['label'])\n",
    "print(\"SVM domain1 valid score: {}\".format(valid_under_balance_dm_score))\n",
    "# calculate the f1 score\n",
    "print(f1_score(valid_under_balance_dm['label'], valid_under_balance_dm_pred, average='macro'))"
   ]
  },
  {
   "cell_type": "markdown",
   "metadata": {},
   "source": [
    "### 2. only use Domain 1 to train the model"
   ]
  },
  {
   "cell_type": "code",
   "execution_count": 11,
   "metadata": {},
   "outputs": [],
   "source": [
    "svm_dm1 = load('C:/Users/dell/Desktop/svm_models/svm_dm1.joblib')\n",
    "svm_dm1_vectorizer = load('C:/Users/dell/Desktop/svm_models/svm_dm1_vectorizer.joblib')"
   ]
  },
  {
   "cell_type": "markdown",
   "metadata": {},
   "source": [
    "train test split"
   ]
  },
  {
   "cell_type": "code",
   "execution_count": 12,
   "metadata": {},
   "outputs": [],
   "source": [
    "train_dm1, valid_dm1 = train_test_split(domain1,test_size=0.2,random_state=7) "
   ]
  },
  {
   "cell_type": "code",
   "execution_count": 58,
   "metadata": {},
   "outputs": [
    {
     "name": "stdout",
     "output_type": "stream",
     "text": [
      "training set size (15600, 2)\n",
      "test set size (3900, 2)\n"
     ]
    }
   ],
   "source": [
    "print('training set size {}'.format(train_dm1.shape))\n",
    "print('test set size {}' .format(valid_dm1.shape))"
   ]
  },
  {
   "cell_type": "markdown",
   "metadata": {},
   "source": [
    "produce bag of word on train_dm1"
   ]
  },
  {
   "cell_type": "code",
   "execution_count": 140,
   "metadata": {},
   "outputs": [
    {
     "data": {
      "text/plain": [
       "(15600, 4900)"
      ]
     },
     "execution_count": 140,
     "metadata": {},
     "output_type": "execute_result"
    }
   ],
   "source": [
    "# convert the text data into numeric vectors\n",
    "corpus = [' '.join(str(word_id) for word_id in document) for document in train_dm1['text']]\n",
    "\n",
    "# learn the token dictionary and return document-term matrix\n",
    "train_dm1_vec = vectorizer.fit_transform(corpus)\n",
    "\n",
    "# get column names in domain1\n",
    "train_dm1_vec_col = vectorizer.get_feature_names_out()\n",
    "\n",
    "# get data in domain1\n",
    "train_dm1_Xs = train_dm1_vec.toarray()\n",
    "\n",
    "train_dm1_Xs.shape"
   ]
  },
  {
   "cell_type": "markdown",
   "metadata": {},
   "source": [
    "produce bag of word on valid_dm1"
   ]
  },
  {
   "cell_type": "code",
   "execution_count": 158,
   "metadata": {},
   "outputs": [
    {
     "data": {
      "text/plain": [
       "(3900, 4900)"
      ]
     },
     "execution_count": 158,
     "metadata": {},
     "output_type": "execute_result"
    }
   ],
   "source": [
    "# convert the text data into numeric vectors\n",
    "corpus = [' '.join(str(word_id) for word_id in document) for document in valid_dm1['text']]\n",
    "\n",
    "# learn the token dictionary and return document-term matrix\n",
    "valid_dm1_vec = vectorizer.transform(corpus)\n",
    "\n",
    "# get column names in domain1\n",
    "valid_dm1_vec_col = vectorizer.get_feature_names_out()\n",
    "\n",
    "# get data in domain1\n",
    "valid_dm1_Xs = valid_dm1_vec.toarray()\n",
    "\n",
    "valid_dm1_Xs.shape"
   ]
  },
  {
   "cell_type": "code",
   "execution_count": 61,
   "metadata": {},
   "outputs": [],
   "source": [
    "from sklearn.svm import SVC\n",
    "svm_dm1 = SVC()"
   ]
  },
  {
   "cell_type": "code",
   "execution_count": 62,
   "metadata": {},
   "outputs": [],
   "source": [
    "svm_dm1.fit(train_dm1_Xs, train_dm1['label'])\n",
    "\n",
    "valid_dm1_Xs_pred = svm_dm1.predict(valid_dm1_Xs)"
   ]
  },
  {
   "cell_type": "code",
   "execution_count": 63,
   "metadata": {},
   "outputs": [
    {
     "name": "stdout",
     "output_type": "stream",
     "text": [
      "SVM domain1 training score: 0.955448717948718\n",
      "SVM domain1 valid score: 0.9164102564102564\n"
     ]
    }
   ],
   "source": [
    "train_score = svm_dm1.score(train_dm1_Xs, train_dm1['label'])\n",
    "valid_score = svm_dm1.score(valid_dm1_Xs, valid_dm1['label'])\n",
    "\n",
    "print(\"SVM domain1 training score: {}\".format(train_score))\n",
    "print(\"SVM domain1 valid score: {}\".format(valid_score))"
   ]
  },
  {
   "cell_type": "code",
   "execution_count": 90,
   "metadata": {},
   "outputs": [
    {
     "data": {
      "text/plain": [
       "<sklearn.metrics._plot.confusion_matrix.ConfusionMatrixDisplay at 0x1fb0ade6c50>"
      ]
     },
     "execution_count": 90,
     "metadata": {},
     "output_type": "execute_result"
    },
    {
     "data": {
      "image/png": "[encoded data removed]",
      "text/plain": [
       "<Figure size 640x480 with 2 Axes>"
      ]
     },
     "metadata": {},
     "output_type": "display_data"
    }
   ],
   "source": [
    "from sklearn import metrics\n",
    "cm_dm1 = metrics.ConfusionMatrixDisplay(confusion_matrix=confusion_matrix(valid_dm1['label'], valid_dm1_Xs_pred), display_labels=svm_dm1.classes_)\n",
    "cm_dm1.plot()"
   ]
  },
  {
   "cell_type": "code",
   "execution_count": 65,
   "metadata": {},
   "outputs": [
    {
     "name": "stdout",
     "output_type": "stream",
     "text": [
      "              precision    recall  f1-score   support\n",
      "\n",
      "           0       0.97      0.86      0.91      1982\n",
      "           1       0.87      0.97      0.92      1918\n",
      "\n",
      "    accuracy                           0.92      3900\n",
      "   macro avg       0.92      0.92      0.92      3900\n",
      "weighted avg       0.92      0.92      0.92      3900\n",
      "\n"
     ]
    }
   ],
   "source": [
    "print(classification_report(valid_dm1['label'], valid_dm1_Xs_pred))"
   ]
  },
  {
   "cell_type": "code",
   "execution_count": 66,
   "metadata": {},
   "outputs": [
    {
     "name": "stdout",
     "output_type": "stream",
     "text": [
      "0.916283090369487\n"
     ]
    }
   ],
   "source": [
    "print(f1_score(valid_dm1['label'], valid_dm1_Xs_pred, average='macro'))"
   ]
  },
  {
   "cell_type": "code",
   "execution_count": 141,
   "metadata": {},
   "outputs": [
    {
     "data": {
      "text/plain": [
       "['svm_models/svm_dm1_vectorizer.joblib']"
      ]
     },
     "execution_count": 141,
     "metadata": {},
     "output_type": "execute_result"
    }
   ],
   "source": [
    "dump(svm_dm1, 'svm_models/svm_dm1.joblib')\n",
    "dump(vectorizer, 'svm_models/svm_dm1_vectorizer.joblib')"
   ]
  },
  {
   "cell_type": "markdown",
   "metadata": {},
   "source": [
    "use domain 2 data as validation"
   ]
  },
  {
   "cell_type": "code",
   "execution_count": 17,
   "metadata": {},
   "outputs": [
    {
     "name": "stdout",
     "output_type": "stream",
     "text": [
      "SVM domain1 valid score: 0.48372093023255813\n",
      "0.46472728903941374\n"
     ]
    }
   ],
   "source": [
    "# use valid_underdm2 as the validation set, test the svm_dm1 accuracy\n",
    "train_underdm2, valid_underdm2 = train_test_split(under_dm2,test_size=0.2,random_state=7)\n",
    "\n",
    "# predict the label for valid_underdm2\n",
    "\n",
    "# convert the text data into numeric vectors\n",
    "corpus = [' '.join(str(word_id) for word_id in document) for document in valid_underdm2['text']]\n",
    "# learn the token dictionary and return document-term matrix\n",
    "valid_underdm2_vec = svm_dm1_vectorizer.transform(corpus)\n",
    "# get data in domain\n",
    "valid_underdm2_Xs = valid_underdm2_vec.toarray()\n",
    "\n",
    "valid_underdm2_pred = svm_dm1.predict(valid_underdm2_Xs)\n",
    "\n",
    "# calculate the accuracy\n",
    "valid_underdm2_score = svm_dm1.score(valid_underdm2_Xs, valid_underdm2['label'])\n",
    "print(\"SVM domain1 valid score: {}\".format(valid_underdm2_score))\n",
    "# calculate the f1 score\n",
    "print(f1_score(valid_underdm2['label'], valid_underdm2_pred, average='macro'))"
   ]
  },
  {
   "cell_type": "markdown",
   "metadata": {},
   "source": [
    "use domain fusion as validation"
   ]
  },
  {
   "cell_type": "code",
   "execution_count": 18,
   "metadata": {},
   "outputs": [
    {
     "name": "stdout",
     "output_type": "stream",
     "text": [
      "SVM domain1 valid score: 0.8533613445378151\n",
      "0.8530643552367604\n"
     ]
    }
   ],
   "source": [
    "# use valid_under_balance_dm as the validation set, test the svm_dm1 accuracy\n",
    "train_under_balance_dm, valid_under_balance_dm = train_test_split(under_balance_dm,test_size=0.2,random_state=7)\n",
    "\n",
    "# predict the label for valid_under_balance_dm\n",
    "\n",
    "# convert the text data into numeric vectors\n",
    "corpus = [' '.join(str(word_id) for word_id in document) for document in valid_under_balance_dm['text']]\n",
    "# learn the token dictionary and return document-term matrix\n",
    "valid_under_balance_dm_vec = svm_dm1_vectorizer.transform(corpus)\n",
    "# get data in domain\n",
    "valid_under_balance_dm_Xs = valid_under_balance_dm_vec.toarray()\n",
    "\n",
    "valid_under_balance_dm_pred = svm_dm1.predict(valid_under_balance_dm_Xs)\n",
    "\n",
    "# calculate the accuracy\n",
    "valid_under_balance_dm_score = svm_dm1.score(valid_under_balance_dm_Xs, valid_under_balance_dm['label'])\n",
    "print(\"SVM domain1 valid score: {}\".format(valid_under_balance_dm_score))\n",
    "# calculate the f1 score\n",
    "print(f1_score(valid_under_balance_dm['label'], valid_under_balance_dm_pred, average='macro'))"
   ]
  },
  {
   "cell_type": "markdown",
   "metadata": {},
   "source": [
    "### 3. Combine Domain 1 and Domain 2 to train the model"
   ]
  },
  {
   "cell_type": "markdown",
   "metadata": {},
   "source": [
    "#### **3.1 Simply combine Domain 1 and Domain 2**"
   ]
  },
  {
   "cell_type": "code",
   "execution_count": 159,
   "metadata": {},
   "outputs": [],
   "source": [
    "svm_dm_merge = load('svm_models/svm_dm_merge.joblib')\n",
    "svm_dm_merge_vectorizer = load('svm_models/svm_dm_merge_vectorizer.joblib')"
   ]
  },
  {
   "cell_type": "code",
   "execution_count": 67,
   "metadata": {},
   "outputs": [],
   "source": [
    "domain1_mod = domain1.copy()\n",
    "domain1_mod[\"model\"] = 7\n",
    "merge_dm = pd.concat([domain1_mod, domain2], ignore_index=True)"
   ]
  },
  {
   "cell_type": "markdown",
   "metadata": {},
   "source": [
    "train test split"
   ]
  },
  {
   "cell_type": "code",
   "execution_count": 68,
   "metadata": {},
   "outputs": [],
   "source": [
    "train_merge_dm, valid_merge_dm = train_test_split(merge_dm,test_size=0.2,random_state=7) "
   ]
  },
  {
   "cell_type": "code",
   "execution_count": 69,
   "metadata": {},
   "outputs": [
    {
     "name": "stdout",
     "output_type": "stream",
     "text": [
      "training set size (27520, 3)\n",
      "test set size (6880, 3)\n"
     ]
    }
   ],
   "source": [
    "print('training set size {}'.format(train_merge_dm.shape))\n",
    "print('test set size {}' .format(valid_merge_dm.shape))"
   ]
  },
  {
   "cell_type": "markdown",
   "metadata": {},
   "source": [
    "produce bag of word on train_merge_dm"
   ]
  },
  {
   "cell_type": "code",
   "execution_count": 136,
   "metadata": {},
   "outputs": [
    {
     "data": {
      "text/plain": [
       "(27520, 4989)"
      ]
     },
     "execution_count": 136,
     "metadata": {},
     "output_type": "execute_result"
    }
   ],
   "source": [
    "# convert the text data into numeric vectors\n",
    "corpus = [' '.join(str(word_id) for word_id in document) for document in train_merge_dm['text']]\n",
    "\n",
    "# learn the token dictionary and return document-term matrix\n",
    "train_merge_vec = vectorizer.fit_transform(corpus)\n",
    "\n",
    "# get column names in domain1\n",
    "train_merge_vec_col = vectorizer.get_feature_names_out()\n",
    "\n",
    "# get data in domain1\n",
    "train_merge_Xs = train_merge_vec.toarray()\n",
    "\n",
    "train_merge_Xs.shape"
   ]
  },
  {
   "cell_type": "markdown",
   "metadata": {},
   "source": [
    "produce bag of word on valid_merge_dm"
   ]
  },
  {
   "cell_type": "code",
   "execution_count": 160,
   "metadata": {},
   "outputs": [
    {
     "data": {
      "text/plain": [
       "(6880, 4989)"
      ]
     },
     "execution_count": 160,
     "metadata": {},
     "output_type": "execute_result"
    }
   ],
   "source": [
    "# convert the text data into numeric vectors\n",
    "corpus = [' '.join(str(word_id) for word_id in document) for document in valid_merge_dm['text']]\n",
    "\n",
    "# learn the token dictionary and return document-term matrix\n",
    "valid_merge_vec = vectorizer.transform(corpus)\n",
    "\n",
    "# get column names in domain1\n",
    "valid_merge1_vec_col = vectorizer.get_feature_names_out()\n",
    "\n",
    "# get data in domain1\n",
    "valid_merge_Xs = valid_merge_vec.toarray()\n",
    "\n",
    "valid_merge_Xs.shape"
   ]
  },
  {
   "cell_type": "code",
   "execution_count": 72,
   "metadata": {},
   "outputs": [],
   "source": [
    "from sklearn.svm import SVC\n",
    "svm_dm_merge = SVC()"
   ]
  },
  {
   "cell_type": "code",
   "execution_count": 73,
   "metadata": {},
   "outputs": [],
   "source": [
    "svm_dm_merge.fit(train_merge_Xs, train_merge_dm['label'])\n",
    "\n",
    "valid_merge_pred = svm_dm_merge.predict(valid_merge_Xs)"
   ]
  },
  {
   "cell_type": "code",
   "execution_count": 74,
   "metadata": {},
   "outputs": [
    {
     "name": "stdout",
     "output_type": "stream",
     "text": [
      "SVM domain1 training score: 0.8985101744186047\n",
      "SVM domain1 valid score: 0.8652616279069767\n"
     ]
    }
   ],
   "source": [
    "train_score = svm_dm_merge.score(train_merge_Xs, train_merge_dm['label'])\n",
    "valid_score = svm_dm_merge.score(valid_merge_Xs, valid_merge_dm['label'])\n",
    "\n",
    "print(\"SVM domain1 training score: {}\".format(train_score))\n",
    "print(\"SVM domain1 valid score: {}\".format(valid_score))"
   ]
  },
  {
   "cell_type": "code",
   "execution_count": 75,
   "metadata": {},
   "outputs": [
    {
     "data": {
      "text/plain": [
       "<sklearn.metrics._plot.confusion_matrix.ConfusionMatrixDisplay at 0x1fb5ae9c610>"
      ]
     },
     "execution_count": 75,
     "metadata": {},
     "output_type": "execute_result"
    },
    {
     "data": {
      "image/png": "[encoded data removed]",
      "text/plain": [
       "<Figure size 640x480 with 2 Axes>"
      ]
     },
     "metadata": {},
     "output_type": "display_data"
    }
   ],
   "source": [
    "from sklearn import metrics\n",
    "cm_dm1 = metrics.ConfusionMatrixDisplay(confusion_matrix=confusion_matrix(valid_merge_dm['label'], valid_merge_pred), display_labels=svm_dm_merge.classes_)\n",
    "cm_dm1.plot()"
   ]
  },
  {
   "cell_type": "code",
   "execution_count": 76,
   "metadata": {},
   "outputs": [
    {
     "name": "stdout",
     "output_type": "stream",
     "text": [
      "              precision    recall  f1-score   support\n",
      "\n",
      "           0       0.89      0.91      0.90      4558\n",
      "           1       0.81      0.78      0.80      2322\n",
      "\n",
      "    accuracy                           0.87      6880\n",
      "   macro avg       0.85      0.84      0.85      6880\n",
      "weighted avg       0.86      0.87      0.86      6880\n",
      "\n"
     ]
    }
   ],
   "source": [
    "print(classification_report(valid_merge_dm['label'], valid_merge_pred))"
   ]
  },
  {
   "cell_type": "code",
   "execution_count": 77,
   "metadata": {},
   "outputs": [
    {
     "name": "stdout",
     "output_type": "stream",
     "text": [
      "0.8477553125262061\n"
     ]
    }
   ],
   "source": [
    "print(f1_score(valid_merge_dm['label'], valid_merge_pred, average='macro'))"
   ]
  },
  {
   "cell_type": "code",
   "execution_count": 138,
   "metadata": {},
   "outputs": [
    {
     "data": {
      "text/plain": [
       "['svm_models/svm_dm_merge_vectorizer.joblib']"
      ]
     },
     "execution_count": 138,
     "metadata": {},
     "output_type": "execute_result"
    }
   ],
   "source": [
    "dump(svm_dm_merge, 'svm_models/svm_dm_merge.joblib')\n",
    "dump(vectorizer, 'svm_models/svm_dm_merge_vectorizer.joblib')"
   ]
  },
  {
   "cell_type": "markdown",
   "metadata": {},
   "source": [
    "#### **3.2 Combine Domain 1 and self balanced Domain 2**"
   ]
  },
  {
   "cell_type": "code",
   "execution_count": 30,
   "metadata": {},
   "outputs": [],
   "source": [
    "svm_dm_balance = load('C:/Users/dell/Desktop/svm_models/svm_dm_balance.joblib')\n",
    "svm_dm_balance_vectorizer = load('C:/Users/dell/Desktop/svm_models/svm_dm_balance_vectorizer.joblib')"
   ]
  },
  {
   "cell_type": "code",
   "execution_count": 111,
   "metadata": {},
   "outputs": [
    {
     "data": {
      "text/plain": [
       "(45000, 3)"
      ]
     },
     "execution_count": 111,
     "metadata": {},
     "output_type": "execute_result"
    }
   ],
   "source": [
    "# domain1_mod = domain1.copy()\n",
    "# domain1_mod[\"model\"] = 7\n",
    "balance_dm = pd.concat([domain1_mod, newdomain2], ignore_index=True)\n",
    "balance_dm.shape"
   ]
  },
  {
   "cell_type": "markdown",
   "metadata": {},
   "source": [
    "train test split"
   ]
  },
  {
   "cell_type": "code",
   "execution_count": 112,
   "metadata": {},
   "outputs": [],
   "source": [
    "train_balance_dm, valid_balance_dm = train_test_split(balance_dm,test_size=0.2,random_state=7) "
   ]
  },
  {
   "cell_type": "code",
   "execution_count": 113,
   "metadata": {},
   "outputs": [
    {
     "name": "stdout",
     "output_type": "stream",
     "text": [
      "training set size (36000, 3)\n",
      "test set size (9000, 3)\n"
     ]
    }
   ],
   "source": [
    "print('training set size {}'.format(train_balance_dm.shape))\n",
    "print('test set size {}' .format(valid_balance_dm.shape))"
   ]
  },
  {
   "cell_type": "markdown",
   "metadata": {},
   "source": [
    "produce bag of word on train_merge_dm"
   ]
  },
  {
   "cell_type": "code",
   "execution_count": 114,
   "metadata": {},
   "outputs": [
    {
     "data": {
      "text/plain": [
       "(36000, 4989)"
      ]
     },
     "execution_count": 114,
     "metadata": {},
     "output_type": "execute_result"
    }
   ],
   "source": [
    "# convert the text data into numeric vectors\n",
    "corpus = [' '.join(str(word_id) for word_id in document) for document in train_balance_dm['text']]\n",
    "\n",
    "# learn the token dictionary and return document-term matrix\n",
    "train_balance_vec = vectorizer.fit_transform(corpus)\n",
    "\n",
    "# get column names in domain1\n",
    "train_balance_vec_col = vectorizer.get_feature_names_out()\n",
    "\n",
    "# get data in domain1\n",
    "train_balance_Xs = train_balance_vec.toarray()\n",
    "\n",
    "train_balance_Xs.shape"
   ]
  },
  {
   "cell_type": "markdown",
   "metadata": {},
   "source": [
    "produce bag of word on valid_merge_dm"
   ]
  },
  {
   "cell_type": "code",
   "execution_count": 162,
   "metadata": {},
   "outputs": [
    {
     "data": {
      "text/plain": [
       "(9000, 4989)"
      ]
     },
     "execution_count": 162,
     "metadata": {},
     "output_type": "execute_result"
    }
   ],
   "source": [
    "# convert the text data into numeric vectors\n",
    "corpus = [' '.join(str(word_id) for word_id in document) for document in valid_balance_dm['text']]\n",
    "\n",
    "# learn the token dictionary and return document-term matrix\n",
    "valid_balance_vec = vectorizer.transform(corpus)\n",
    "\n",
    "# get column names in domain1\n",
    "valid_balance_vec_col = vectorizer.get_feature_names_out()\n",
    "\n",
    "# get data in domain1\n",
    "valid_balance_Xs = valid_balance_vec.toarray()\n",
    "\n",
    "valid_balance_Xs.shape"
   ]
  },
  {
   "cell_type": "code",
   "execution_count": 116,
   "metadata": {},
   "outputs": [],
   "source": [
    "from sklearn.svm import SVC\n",
    "svm_dm_balance = SVC()"
   ]
  },
  {
   "cell_type": "code",
   "execution_count": 117,
   "metadata": {},
   "outputs": [],
   "source": [
    "svm_dm_balance.fit(train_balance_Xs, train_balance_dm['label'])\n",
    "\n",
    "valid_balance_pred = svm_dm_balance.predict(valid_balance_Xs)"
   ]
  },
  {
   "cell_type": "code",
   "execution_count": 133,
   "metadata": {},
   "outputs": [
    {
     "data": {
      "text/plain": [
       "['svm_models/svm_dm_balance_vectorizer.joblib']"
      ]
     },
     "execution_count": 133,
     "metadata": {},
     "output_type": "execute_result"
    }
   ],
   "source": [
    "dump(svm_dm_balance, 'svm_models/svm_dm_balance.joblib')\n",
    "dump(vectorizer, 'svm_models/svm_dm_balance_vectorizer.joblib')"
   ]
  },
  {
   "cell_type": "code",
   "execution_count": null,
   "metadata": {},
   "outputs": [],
   "source": [
    "train_score = svm_dm_balance.score(train_balance_Xs, train_balance_dm['label'])\n",
    "valid_score = svm_dm_balance.score(valid_balance_Xs, valid_balance_dm['label'])\n",
    "\n",
    "print(\"SVM training score: {}\".format(train_score))\n",
    "print(\"SVM valid score: {}\".format(valid_score))"
   ]
  },
  {
   "cell_type": "code",
   "execution_count": 118,
   "metadata": {},
   "outputs": [
    {
     "data": {
      "text/plain": [
       "<sklearn.metrics._plot.confusion_matrix.ConfusionMatrixDisplay at 0x1fb5968a3d0>"
      ]
     },
     "execution_count": 118,
     "metadata": {},
     "output_type": "execute_result"
    },
    {
     "data": {
      "image/png": "[encoded data removed]",
      "text/plain": [
       "<Figure size 640x480 with 2 Axes>"
      ]
     },
     "metadata": {},
     "output_type": "display_data"
    }
   ],
   "source": [
    "from sklearn import metrics\n",
    "cm_dm1 = metrics.ConfusionMatrixDisplay(confusion_matrix=confusion_matrix(valid_balance_dm['label'], valid_balance_pred), display_labels=svm_dm_balance.classes_)\n",
    "cm_dm1.plot()"
   ]
  },
  {
   "cell_type": "code",
   "execution_count": 119,
   "metadata": {},
   "outputs": [
    {
     "name": "stdout",
     "output_type": "stream",
     "text": [
      "              precision    recall  f1-score   support\n",
      "\n",
      "           0       0.91      0.80      0.85      4464\n",
      "           1       0.82      0.92      0.87      4536\n",
      "\n",
      "    accuracy                           0.86      9000\n",
      "   macro avg       0.87      0.86      0.86      9000\n",
      "weighted avg       0.86      0.86      0.86      9000\n",
      "\n"
     ]
    }
   ],
   "source": [
    "print(classification_report(valid_balance_dm['label'], valid_balance_pred))"
   ]
  },
  {
   "cell_type": "code",
   "execution_count": 120,
   "metadata": {},
   "outputs": [
    {
     "name": "stdout",
     "output_type": "stream",
     "text": [
      "0.8594886963424242\n"
     ]
    }
   ],
   "source": [
    "print(f1_score(valid_balance_dm['label'], valid_balance_pred, average='macro'))"
   ]
  },
  {
   "cell_type": "markdown",
   "metadata": {},
   "source": [
    "<span style=\"color:red;\">**predict test set using svm_dm_balance**</span>"
   ]
  },
  {
   "cell_type": "code",
   "execution_count": 190,
   "metadata": {},
   "outputs": [
    {
     "data": {
      "text/plain": [
       "(1000, 4989)"
      ]
     },
     "execution_count": 190,
     "metadata": {},
     "output_type": "execute_result"
    }
   ],
   "source": [
    "# convert the text data into numeric vectors\n",
    "corpus = [' '.join(str(word_id) for word_id in document) for document in test['text']]\n",
    "\n",
    "# learn the token dictionary and return document-term matrix\n",
    "test_vec = svm_dm_balance_vectorizer.transform(corpus)\n",
    "\n",
    "# get column names in domain1\n",
    "test_vec_col = svm_dm_balance_vectorizer.get_feature_names_out()\n",
    "\n",
    "# get data in domain1\n",
    "test_X = test_vec.toarray()\n",
    "\n",
    "test_X.shape"
   ]
  },
  {
   "cell_type": "code",
   "execution_count": 122,
   "metadata": {},
   "outputs": [],
   "source": [
    "test_dm_balance_pred = svm_dm_balance.predict(test_X)"
   ]
  },
  {
   "cell_type": "code",
   "execution_count": 126,
   "metadata": {},
   "outputs": [
    {
     "data": {
      "text/plain": [
       "array([1, 0, 1, 0, 0, 1, 1, 0, 0, 0, 0, 0, 0, 0, 0, 0, 0, 0, 0, 1, 0, 0,\n",
       "       1, 1, 1, 0, 0, 0, 1, 1, 1, 0, 0, 0, 1, 1, 1, 1, 0, 0, 1, 0, 0, 1,\n",
       "       1, 0, 1, 0, 0, 0, 0, 1, 0, 0, 1, 1, 1, 0, 1, 0, 1, 0, 1, 0, 0, 0,\n",
       "       1, 0, 1, 1, 0, 0, 1, 0, 1, 0, 1, 1, 1, 0, 0, 1, 0, 1, 1, 1, 1, 0,\n",
       "       1, 1, 0, 1, 1, 1, 0, 1, 1, 1, 0, 0, 0, 1, 0, 1, 1, 0, 0, 1, 1, 1,\n",
       "       0, 0, 0, 0, 1, 0, 1, 0, 0, 0, 0, 1, 0, 0, 1, 1, 0, 1, 1, 0, 0, 1,\n",
       "       0, 0, 0, 0, 0, 0, 0, 1, 0, 0, 1, 0, 1, 1, 0, 0, 1, 0, 0, 0, 1, 1,\n",
       "       0, 1, 0, 1, 0, 0, 1, 0, 0, 1, 1, 0, 1, 0, 0, 1, 1, 0, 1, 0, 0, 1,\n",
       "       0, 0, 0, 0, 0, 0, 1, 1, 0, 0, 1, 0, 0, 1, 1, 0, 0, 1, 1, 0, 1, 1,\n",
       "       1, 1, 0, 0, 0, 0, 1, 1, 0, 0, 0, 0, 1, 0, 0, 1, 0, 0, 1, 1, 0, 0,\n",
       "       0, 1, 1, 0, 1, 0, 0, 1, 0, 1, 0, 1, 0, 0, 1, 1, 0, 0, 1, 1, 0, 1,\n",
       "       0, 0, 0, 1, 1, 0, 0, 0, 0, 0, 0, 0, 0, 0, 0, 1, 0, 1, 0, 0, 1, 0,\n",
       "       1, 1, 0, 1, 0, 0, 1, 0, 0, 0, 0, 1, 1, 1, 1, 0, 1, 0, 1, 1, 0, 1,\n",
       "       0, 0, 0, 0, 0, 0, 0, 0, 0, 0, 1, 0, 1, 0, 0, 0, 0, 1, 0, 0, 0, 0,\n",
       "       1, 0, 1, 0, 0, 1, 0, 0, 1, 1, 0, 0, 0, 1, 0, 1, 0, 0, 1, 0, 0, 1,\n",
       "       0, 0, 0, 0, 0, 1, 1, 1, 1, 0, 1, 0, 1, 0, 0, 0, 1, 1, 0, 0, 1, 0,\n",
       "       1, 1, 0, 0, 0, 0, 1, 1, 1, 0, 0, 0, 1, 1, 0, 1, 0, 1, 1, 1, 1, 1,\n",
       "       0, 0, 1, 1, 1, 0, 0, 1, 0, 1, 0, 1, 1, 1, 1, 1, 0, 0, 1, 1, 0, 0,\n",
       "       1, 1, 1, 0, 1, 0, 0, 1, 0, 0, 0, 1, 0, 0, 1, 0, 0, 1, 0, 0, 0, 0,\n",
       "       1, 0, 1, 0, 0, 1, 1, 1, 1, 0, 1, 0, 0, 0, 1, 0, 1, 0, 0, 0, 0, 1,\n",
       "       0, 0, 0, 1, 0, 0, 0, 0, 0, 1, 1, 0, 0, 0, 1, 1, 1, 1, 0, 1, 0, 1,\n",
       "       0, 0, 0, 1, 1, 0, 0, 0, 1, 1, 1, 0, 0, 1, 0, 1, 0, 1, 0, 0, 0, 0,\n",
       "       0, 1, 0, 0, 1, 0, 0, 0, 1, 1, 0, 0, 0, 1, 1, 0, 1, 0, 0, 0, 0, 1,\n",
       "       0, 0, 1, 1, 0, 1, 0, 1, 1, 0, 1, 0, 1, 0, 1, 0, 1, 0, 1, 0, 1, 0,\n",
       "       1, 0, 0, 0, 0, 1, 0, 0, 0, 1, 0, 1, 0, 0, 1, 0, 1, 1, 1, 0, 1, 0,\n",
       "       0, 1, 1, 0, 0, 1, 0, 0, 0, 0, 1, 0, 0, 0, 0, 0, 0, 0, 0, 0, 0, 0,\n",
       "       0, 1, 0, 0, 0, 0, 0, 1, 1, 0, 1, 0, 0, 1, 0, 0, 1, 1, 0, 0, 0, 0,\n",
       "       0, 0, 0, 1, 1, 1, 0, 1, 1, 0, 0, 1, 0, 1, 1, 1, 1, 0, 0, 0, 0, 0,\n",
       "       0, 1, 0, 1, 1, 0, 0, 0, 1, 1, 1, 0, 1, 0, 0, 0, 1, 0, 1, 0, 1, 0,\n",
       "       0, 0, 0, 0, 1, 0, 1, 1, 0, 0, 1, 0, 0, 1, 0, 0, 1, 0, 1, 0, 1, 0,\n",
       "       1, 1, 1, 1, 1, 1, 0, 1, 0, 1, 0, 0, 0, 0, 0, 0, 0, 0, 0, 1, 0, 0,\n",
       "       1, 0, 0, 0, 0, 0, 1, 0, 0, 0, 0, 0, 0, 0, 0, 1, 0, 0, 0, 0, 1, 1,\n",
       "       1, 0, 0, 0, 0, 1, 0, 1, 1, 1, 1, 0, 0, 0, 0, 1, 0, 0, 1, 0, 1, 0,\n",
       "       0, 0, 1, 1, 1, 0, 0, 0, 0, 0, 1, 1, 0, 1, 0, 1, 1, 0, 1, 0, 1, 0,\n",
       "       1, 1, 1, 1, 1, 1, 0, 1, 1, 1, 1, 0, 0, 0, 0, 0, 1, 1, 0, 1, 1, 0,\n",
       "       0, 1, 1, 1, 0, 0, 1, 0, 0, 1, 1, 1, 1, 0, 0, 0, 1, 0, 0, 1, 1, 0,\n",
       "       0, 1, 0, 1, 1, 0, 1, 0, 0, 1, 0, 0, 1, 0, 0, 1, 0, 1, 0, 0, 0, 0,\n",
       "       1, 1, 0, 1, 0, 1, 0, 0, 0, 1, 0, 0, 1, 0, 0, 0, 0, 0, 0, 1, 0, 0,\n",
       "       1, 0, 1, 1, 0, 0, 0, 1, 1, 1, 0, 0, 0, 0, 1, 1, 1, 1, 0, 1, 0, 1,\n",
       "       0, 0, 1, 1, 1, 0, 1, 1, 0, 0, 0, 0, 0, 1, 0, 1, 0, 0, 0, 0, 1, 0,\n",
       "       0, 0, 1, 0, 1, 0, 0, 0, 0, 0, 1, 1, 1, 0, 1, 0, 1, 1, 1, 0, 1, 0,\n",
       "       1, 0, 0, 1, 1, 1, 1, 1, 1, 0, 1, 1, 0, 1, 0, 0, 0, 1, 0, 0, 0, 0,\n",
       "       0, 1, 0, 1, 0, 0, 0, 0, 0, 0, 1, 0, 1, 0, 0, 0, 1, 1, 0, 0, 1, 0,\n",
       "       0, 1, 1, 0, 1, 0, 0, 1, 0, 0, 1, 0, 1, 0, 1, 0, 0, 1, 1, 1, 0, 0,\n",
       "       0, 1, 1, 1, 1, 1, 1, 0, 0, 0, 0, 1, 1, 1, 0, 1, 1, 0, 0, 0, 0, 1,\n",
       "       0, 1, 0, 1, 1, 0, 1, 1, 1, 0], dtype=int64)"
      ]
     },
     "execution_count": 126,
     "metadata": {},
     "output_type": "execute_result"
    }
   ],
   "source": [
    "test_dm_balance_pred"
   ]
  },
  {
   "cell_type": "code",
   "execution_count": 127,
   "metadata": {},
   "outputs": [],
   "source": [
    "df = pd.DataFrame({'id': range(len(test_dm_balance_pred)), 'class': test_dm_balance_pred})"
   ]
  },
  {
   "cell_type": "code",
   "execution_count": 128,
   "metadata": {},
   "outputs": [
    {
     "data": {
      "text/html": [
       "<div>\n",
       "<style scoped>\n",
       "    .dataframe tbody tr th:only-of-type {\n",
       "        vertical-align: middle;\n",
       "    }\n",
       "\n",
       "    .dataframe tbody tr th {\n",
       "        vertical-align: top;\n",
       "    }\n",
       "\n",
       "    .dataframe thead th {\n",
       "        text-align: right;\n",
       "    }\n",
       "</style>\n",
       "<table border=\"1\" class=\"dataframe\">\n",
       "  <thead>\n",
       "    <tr style=\"text-align: right;\">\n",
       "      <th></th>\n",
       "      <th>id</th>\n",
       "      <th>class</th>\n",
       "    </tr>\n",
       "  </thead>\n",
       "  <tbody>\n",
       "    <tr>\n",
       "      <th>0</th>\n",
       "      <td>0</td>\n",
       "      <td>1</td>\n",
       "    </tr>\n",
       "    <tr>\n",
       "      <th>1</th>\n",
       "      <td>1</td>\n",
       "      <td>0</td>\n",
       "    </tr>\n",
       "    <tr>\n",
       "      <th>2</th>\n",
       "      <td>2</td>\n",
       "      <td>1</td>\n",
       "    </tr>\n",
       "    <tr>\n",
       "      <th>3</th>\n",
       "      <td>3</td>\n",
       "      <td>0</td>\n",
       "    </tr>\n",
       "    <tr>\n",
       "      <th>4</th>\n",
       "      <td>4</td>\n",
       "      <td>0</td>\n",
       "    </tr>\n",
       "    <tr>\n",
       "      <th>...</th>\n",
       "      <td>...</td>\n",
       "      <td>...</td>\n",
       "    </tr>\n",
       "    <tr>\n",
       "      <th>995</th>\n",
       "      <td>995</td>\n",
       "      <td>0</td>\n",
       "    </tr>\n",
       "    <tr>\n",
       "      <th>996</th>\n",
       "      <td>996</td>\n",
       "      <td>1</td>\n",
       "    </tr>\n",
       "    <tr>\n",
       "      <th>997</th>\n",
       "      <td>997</td>\n",
       "      <td>1</td>\n",
       "    </tr>\n",
       "    <tr>\n",
       "      <th>998</th>\n",
       "      <td>998</td>\n",
       "      <td>1</td>\n",
       "    </tr>\n",
       "    <tr>\n",
       "      <th>999</th>\n",
       "      <td>999</td>\n",
       "      <td>0</td>\n",
       "    </tr>\n",
       "  </tbody>\n",
       "</table>\n",
       "<p>1000 rows × 2 columns</p>\n",
       "</div>"
      ],
      "text/plain": [
       "      id  class\n",
       "0      0      1\n",
       "1      1      0\n",
       "2      2      1\n",
       "3      3      0\n",
       "4      4      0\n",
       "..   ...    ...\n",
       "995  995      0\n",
       "996  996      1\n",
       "997  997      1\n",
       "998  998      1\n",
       "999  999      0\n",
       "\n",
       "[1000 rows x 2 columns]"
      ]
     },
     "execution_count": 128,
     "metadata": {},
     "output_type": "execute_result"
    }
   ],
   "source": [
    "df"
   ]
  },
  {
   "cell_type": "code",
   "execution_count": 129,
   "metadata": {},
   "outputs": [],
   "source": [
    "df.to_csv('data/output_test_pred_svm_dm_balance.csv', index=False)"
   ]
  },
  {
   "cell_type": "markdown",
   "metadata": {},
   "source": [
    "#### **3.3 Combine dm1 and under sampled dm2**"
   ]
  },
  {
   "cell_type": "code",
   "execution_count": null,
   "metadata": {},
   "outputs": [],
   "source": [
    "svm_dm_under_balance = load('C:/Users/dell/Desktop/svm_models/svm_dm_under_balance.joblib')\n",
    "svm_dm_under_balance_vectorizer = load('C:/Users/dell/Desktop/svm_models/svm_dm_under_balance_vectorizer.joblib')"
   ]
  },
  {
   "cell_type": "code",
   "execution_count": 32,
   "metadata": {},
   "outputs": [
    {
     "data": {
      "text/plain": [
       "(23799, 3)"
      ]
     },
     "execution_count": 32,
     "metadata": {},
     "output_type": "execute_result"
    }
   ],
   "source": [
    "domain1_mod = domain1.copy()\n",
    "domain1_mod[\"model\"] = 7\n",
    "under_balance_dm = pd.concat([domain1_mod, under_dm2], ignore_index=True)\n",
    "under_balance_dm.shape"
   ]
  },
  {
   "cell_type": "markdown",
   "metadata": {},
   "source": [
    "train test split"
   ]
  },
  {
   "cell_type": "code",
   "execution_count": 33,
   "metadata": {},
   "outputs": [],
   "source": [
    "train_under_balance_dm, valid_under_balance_dm = train_test_split(under_balance_dm,test_size=0.2,random_state=7) "
   ]
  },
  {
   "cell_type": "code",
   "execution_count": 34,
   "metadata": {},
   "outputs": [
    {
     "name": "stdout",
     "output_type": "stream",
     "text": [
      "training set size (19039, 3)\n",
      "test set size (4760, 3)\n"
     ]
    }
   ],
   "source": [
    "print('training set size {}'.format(train_under_balance_dm.shape))\n",
    "print('test set size {}' .format(valid_under_balance_dm.shape))"
   ]
  },
  {
   "cell_type": "markdown",
   "metadata": {},
   "source": [
    "produce bag of word on train_merge_dm"
   ]
  },
  {
   "cell_type": "code",
   "execution_count": 35,
   "metadata": {},
   "outputs": [
    {
     "data": {
      "text/plain": [
       "(19039, 4984)"
      ]
     },
     "execution_count": 35,
     "metadata": {},
     "output_type": "execute_result"
    }
   ],
   "source": [
    "svm_dm_under_balance_vectorizer = CountVectorizer()\n",
    "\n",
    "# convert the text data into numeric vectors\n",
    "corpus = [' '.join(str(word_id) for word_id in document) for document in train_under_balance_dm['text']]\n",
    "\n",
    "# learn the token dictionary and return document-term matrix\n",
    "train_under_balance_vec = svm_dm_under_balance_vectorizer.fit_transform(corpus)\n",
    "\n",
    "# get data in domain1\n",
    "train_under_balance_Xs = train_under_balance_vec.toarray()\n",
    "\n",
    "train_under_balance_Xs.shape"
   ]
  },
  {
   "cell_type": "markdown",
   "metadata": {},
   "source": [
    "produce bag of word on valid_merge_dm"
   ]
  },
  {
   "cell_type": "code",
   "execution_count": 36,
   "metadata": {},
   "outputs": [
    {
     "data": {
      "text/plain": [
       "(4760, 4984)"
      ]
     },
     "execution_count": 36,
     "metadata": {},
     "output_type": "execute_result"
    }
   ],
   "source": [
    "# convert the text data into numeric vectors\n",
    "corpus = [' '.join(str(word_id) for word_id in document) for document in valid_under_balance_dm['text']]\n",
    "\n",
    "# learn the token dictionary and return document-term matrix\n",
    "valid_under_balance_vec = svm_dm_under_balance_vectorizer.transform(corpus)\n",
    "\n",
    "# get data in domain1\n",
    "valid_under_balance_Xs = valid_under_balance_vec.toarray()\n",
    "\n",
    "valid_under_balance_Xs.shape"
   ]
  },
  {
   "cell_type": "code",
   "execution_count": 37,
   "metadata": {},
   "outputs": [],
   "source": [
    "from sklearn.svm import SVC\n",
    "svm_dm_under_balance = SVC()"
   ]
  },
  {
   "cell_type": "code",
   "execution_count": 38,
   "metadata": {},
   "outputs": [],
   "source": [
    "svm_dm_under_balance.fit(train_under_balance_Xs, train_under_balance_dm['label'])\n",
    "\n",
    "valid_under_balance_pred = svm_dm_under_balance.predict(valid_under_balance_Xs)"
   ]
  },
  {
   "cell_type": "code",
   "execution_count": 39,
   "metadata": {},
   "outputs": [
    {
     "data": {
      "text/plain": [
       "['C:/Users/dell/Desktop/svm_models/svm_dm_under_balance_vectorizer.joblib']"
      ]
     },
     "execution_count": 39,
     "metadata": {},
     "output_type": "execute_result"
    }
   ],
   "source": [
    "dump(svm_dm_under_balance, 'C:/Users/dell/Desktop/svm_models/svm_dm_under_balance.joblib')\n",
    "dump(svm_dm_under_balance_vectorizer, 'C:/Users/dell/Desktop/svm_models/svm_dm_under_balance_vectorizer.joblib')"
   ]
  },
  {
   "cell_type": "code",
   "execution_count": 76,
   "metadata": {},
   "outputs": [
    {
     "name": "stdout",
     "output_type": "stream",
     "text": [
      "SVM training score: 0.9232627764063238\n",
      "SVM valid score: 0.8567226890756302\n"
     ]
    }
   ],
   "source": [
    "train_score = svm_dm_under_balance.score(train_under_balance_Xs, train_under_balance_dm['label'])\n",
    "valid_score = svm_dm_under_balance.score(valid_under_balance_Xs, valid_under_balance_dm['label'])\n",
    "\n",
    "print(\"SVM training score: {}\".format(train_score))\n",
    "print(\"SVM valid score: {}\".format(valid_score))"
   ]
  },
  {
   "cell_type": "code",
   "execution_count": 40,
   "metadata": {},
   "outputs": [
    {
     "data": {
      "text/plain": [
       "<sklearn.metrics._plot.confusion_matrix.ConfusionMatrixDisplay at 0x13237dd4a90>"
      ]
     },
     "execution_count": 40,
     "metadata": {},
     "output_type": "execute_result"
    },
    {
     "data": {
      "image/png": "[encoded data removed]",
      "text/plain": [
       "<Figure size 640x480 with 2 Axes>"
      ]
     },
     "metadata": {},
     "output_type": "display_data"
    }
   ],
   "source": [
    "from sklearn import metrics\n",
    "cm_dm1 = metrics.ConfusionMatrixDisplay(confusion_matrix=confusion_matrix(valid_under_balance_dm['label'], valid_under_balance_pred), display_labels=svm_dm_under_balance.classes_)\n",
    "cm_dm1.plot()"
   ]
  },
  {
   "cell_type": "code",
   "execution_count": 41,
   "metadata": {},
   "outputs": [
    {
     "name": "stdout",
     "output_type": "stream",
     "text": [
      "              precision    recall  f1-score   support\n",
      "\n",
      "           0       0.92      0.79      0.85      2481\n",
      "           1       0.80      0.93      0.86      2279\n",
      "\n",
      "    accuracy                           0.86      4760\n",
      "   macro avg       0.86      0.86      0.86      4760\n",
      "weighted avg       0.87      0.86      0.86      4760\n",
      "\n"
     ]
    }
   ],
   "source": [
    "print(classification_report(valid_under_balance_dm['label'], valid_under_balance_pred))"
   ]
  },
  {
   "cell_type": "code",
   "execution_count": 42,
   "metadata": {},
   "outputs": [
    {
     "name": "stdout",
     "output_type": "stream",
     "text": [
      "0.8565877685577721\n"
     ]
    }
   ],
   "source": [
    "print(f1_score(valid_under_balance_dm['label'], valid_under_balance_pred, average='macro'))"
   ]
  },
  {
   "cell_type": "markdown",
   "metadata": {},
   "source": [
    "<span style=\"color:red;\">**predict test set using svm_dm_under_balance**</span>"
   ]
  },
  {
   "cell_type": "code",
   "execution_count": 43,
   "metadata": {},
   "outputs": [
    {
     "data": {
      "text/plain": [
       "(1000, 4984)"
      ]
     },
     "execution_count": 43,
     "metadata": {},
     "output_type": "execute_result"
    }
   ],
   "source": [
    "# convert the text data into numeric vectors\n",
    "corpus = [' '.join(str(word_id) for word_id in document) for document in test['text']]\n",
    "\n",
    "# learn the token dictionary and return document-term matrix\n",
    "test_vec = svm_dm_under_balance_vectorizer.transform(corpus)\n",
    "\n",
    "# get data in domain1\n",
    "test_X = test_vec.toarray()\n",
    "\n",
    "test_X.shape"
   ]
  },
  {
   "cell_type": "code",
   "execution_count": 44,
   "metadata": {},
   "outputs": [],
   "source": [
    "test_dm_under_balance_pred = svm_dm_under_balance.predict(test_X)"
   ]
  },
  {
   "cell_type": "code",
   "execution_count": 45,
   "metadata": {},
   "outputs": [
    {
     "data": {
      "text/plain": [
       "array([1, 0, 1, 0, 0, 1, 0, 1, 1, 0, 0, 0, 0, 0, 1, 1, 0, 1, 1, 1, 0, 0,\n",
       "       1, 1, 1, 0, 0, 0, 1, 1, 1, 0, 0, 0, 1, 1, 1, 1, 1, 0, 1, 1, 0, 1,\n",
       "       0, 1, 1, 1, 1, 0, 0, 1, 1, 0, 1, 1, 1, 0, 1, 1, 1, 0, 1, 1, 0, 1,\n",
       "       1, 1, 1, 0, 1, 1, 1, 0, 1, 0, 1, 1, 1, 1, 0, 1, 0, 1, 1, 1, 0, 0,\n",
       "       1, 1, 0, 1, 1, 1, 0, 1, 1, 1, 1, 0, 1, 1, 1, 1, 0, 0, 0, 1, 1, 1,\n",
       "       1, 0, 0, 1, 1, 1, 1, 0, 0, 1, 0, 1, 1, 0, 1, 1, 1, 1, 1, 0, 0, 1,\n",
       "       0, 1, 1, 0, 0, 0, 0, 1, 1, 1, 1, 1, 1, 1, 1, 0, 1, 0, 0, 1, 1, 1,\n",
       "       0, 1, 1, 1, 1, 0, 1, 0, 0, 1, 0, 0, 1, 0, 0, 1, 1, 1, 1, 1, 0, 1,\n",
       "       0, 0, 1, 0, 0, 1, 1, 1, 0, 0, 1, 1, 0, 1, 1, 1, 1, 1, 1, 1, 1, 1,\n",
       "       1, 1, 0, 0, 1, 0, 1, 1, 1, 1, 1, 1, 1, 1, 0, 1, 1, 0, 1, 1, 0, 0,\n",
       "       0, 1, 1, 0, 1, 0, 0, 1, 0, 1, 1, 1, 0, 1, 1, 1, 1, 0, 1, 1, 1, 1,\n",
       "       1, 1, 0, 1, 1, 0, 1, 0, 0, 1, 1, 1, 0, 1, 0, 1, 0, 1, 0, 1, 1, 0,\n",
       "       1, 1, 1, 1, 0, 1, 0, 1, 0, 0, 0, 1, 1, 1, 1, 1, 1, 0, 1, 1, 0, 1,\n",
       "       0, 1, 0, 0, 1, 1, 0, 0, 0, 0, 1, 0, 1, 0, 0, 1, 0, 1, 0, 0, 0, 1,\n",
       "       1, 1, 1, 0, 1, 1, 0, 1, 1, 1, 1, 0, 0, 1, 1, 1, 0, 0, 1, 0, 0, 1,\n",
       "       0, 1, 1, 0, 1, 1, 1, 1, 1, 0, 1, 0, 1, 0, 0, 0, 1, 1, 0, 0, 1, 1,\n",
       "       1, 1, 1, 1, 0, 1, 1, 1, 1, 0, 0, 1, 1, 1, 1, 0, 0, 1, 1, 1, 1, 1,\n",
       "       1, 1, 1, 1, 1, 0, 0, 1, 0, 1, 0, 1, 0, 1, 1, 1, 0, 1, 1, 1, 0, 0,\n",
       "       1, 1, 1, 1, 1, 0, 1, 1, 0, 0, 0, 1, 0, 0, 1, 0, 1, 1, 0, 1, 0, 0,\n",
       "       1, 0, 1, 1, 1, 1, 1, 1, 1, 1, 1, 1, 0, 0, 1, 0, 1, 0, 1, 0, 0, 1,\n",
       "       0, 1, 1, 1, 1, 1, 1, 1, 1, 1, 1, 1, 0, 0, 1, 1, 1, 1, 0, 1, 0, 1,\n",
       "       0, 0, 0, 1, 1, 0, 0, 1, 1, 1, 1, 1, 0, 0, 0, 1, 0, 1, 0, 0, 1, 1,\n",
       "       0, 1, 0, 0, 1, 0, 0, 0, 1, 1, 1, 1, 0, 1, 0, 0, 1, 1, 0, 0, 0, 1,\n",
       "       1, 0, 1, 1, 1, 1, 0, 1, 1, 0, 1, 0, 1, 0, 0, 0, 1, 0, 1, 1, 1, 0,\n",
       "       1, 1, 0, 0, 0, 0, 0, 0, 0, 1, 0, 1, 1, 0, 1, 0, 1, 1, 1, 0, 1, 1,\n",
       "       0, 1, 1, 1, 0, 1, 0, 1, 1, 0, 0, 0, 1, 0, 0, 1, 1, 0, 0, 0, 0, 1,\n",
       "       1, 1, 1, 0, 0, 0, 1, 1, 1, 0, 1, 0, 0, 0, 0, 0, 1, 1, 1, 0, 0, 1,\n",
       "       1, 1, 1, 1, 1, 1, 1, 1, 1, 1, 1, 1, 0, 1, 0, 1, 1, 1, 1, 0, 0, 0,\n",
       "       0, 1, 0, 1, 1, 0, 0, 0, 1, 1, 1, 0, 1, 0, 1, 0, 1, 1, 1, 0, 1, 1,\n",
       "       1, 1, 1, 0, 1, 1, 0, 1, 0, 0, 1, 1, 0, 1, 0, 1, 1, 1, 1, 0, 1, 0,\n",
       "       1, 1, 1, 1, 1, 1, 0, 0, 1, 1, 1, 1, 0, 1, 1, 0, 0, 1, 0, 0, 0, 0,\n",
       "       1, 1, 0, 0, 0, 0, 1, 0, 1, 0, 0, 0, 0, 0, 0, 1, 0, 1, 1, 0, 1, 1,\n",
       "       1, 0, 0, 1, 1, 1, 0, 1, 1, 1, 1, 0, 0, 0, 0, 1, 0, 0, 1, 1, 1, 0,\n",
       "       1, 0, 1, 1, 1, 0, 0, 0, 0, 1, 1, 1, 0, 1, 0, 1, 1, 0, 1, 1, 1, 0,\n",
       "       1, 1, 1, 1, 1, 1, 1, 1, 1, 1, 1, 1, 1, 0, 0, 1, 1, 1, 0, 1, 1, 0,\n",
       "       0, 1, 0, 1, 0, 0, 1, 0, 0, 1, 1, 1, 1, 0, 0, 1, 1, 0, 0, 1, 1, 1,\n",
       "       1, 1, 0, 1, 1, 1, 1, 0, 1, 1, 0, 0, 1, 0, 0, 1, 0, 1, 0, 0, 0, 0,\n",
       "       1, 1, 0, 1, 1, 1, 0, 1, 0, 0, 0, 1, 1, 1, 0, 0, 1, 0, 0, 1, 0, 1,\n",
       "       1, 1, 1, 1, 1, 0, 0, 1, 1, 1, 0, 1, 0, 0, 1, 1, 1, 1, 0, 1, 0, 1,\n",
       "       0, 1, 1, 1, 1, 0, 1, 1, 0, 0, 0, 1, 0, 1, 0, 1, 0, 1, 0, 0, 1, 0,\n",
       "       0, 0, 0, 1, 1, 1, 0, 0, 1, 0, 1, 1, 1, 0, 1, 1, 1, 1, 1, 0, 1, 0,\n",
       "       1, 1, 1, 1, 1, 1, 0, 1, 1, 0, 1, 1, 1, 1, 0, 0, 0, 0, 0, 0, 1, 0,\n",
       "       0, 1, 0, 1, 0, 1, 1, 0, 1, 0, 1, 1, 0, 1, 1, 0, 0, 1, 1, 0, 1, 0,\n",
       "       0, 1, 1, 1, 1, 1, 0, 1, 0, 0, 1, 0, 1, 0, 1, 0, 0, 1, 1, 1, 1, 1,\n",
       "       0, 1, 1, 1, 1, 1, 1, 0, 1, 1, 0, 1, 1, 1, 1, 1, 1, 0, 0, 1, 1, 0,\n",
       "       0, 1, 0, 1, 1, 1, 1, 0, 1, 1], dtype=int64)"
      ]
     },
     "execution_count": 45,
     "metadata": {},
     "output_type": "execute_result"
    }
   ],
   "source": [
    "test_dm_under_balance_pred"
   ]
  },
  {
   "cell_type": "code",
   "execution_count": 46,
   "metadata": {},
   "outputs": [],
   "source": [
    "df = pd.DataFrame({'id': range(len(test_dm_under_balance_pred)), 'class': test_dm_under_balance_pred})"
   ]
  },
  {
   "cell_type": "code",
   "execution_count": 47,
   "metadata": {},
   "outputs": [
    {
     "data": {
      "text/html": [
       "<div>\n",
       "<style scoped>\n",
       "    .dataframe tbody tr th:only-of-type {\n",
       "        vertical-align: middle;\n",
       "    }\n",
       "\n",
       "    .dataframe tbody tr th {\n",
       "        vertical-align: top;\n",
       "    }\n",
       "\n",
       "    .dataframe thead th {\n",
       "        text-align: right;\n",
       "    }\n",
       "</style>\n",
       "<table border=\"1\" class=\"dataframe\">\n",
       "  <thead>\n",
       "    <tr style=\"text-align: right;\">\n",
       "      <th></th>\n",
       "      <th>id</th>\n",
       "      <th>class</th>\n",
       "    </tr>\n",
       "  </thead>\n",
       "  <tbody>\n",
       "    <tr>\n",
       "      <th>0</th>\n",
       "      <td>0</td>\n",
       "      <td>1</td>\n",
       "    </tr>\n",
       "    <tr>\n",
       "      <th>1</th>\n",
       "      <td>1</td>\n",
       "      <td>0</td>\n",
       "    </tr>\n",
       "    <tr>\n",
       "      <th>2</th>\n",
       "      <td>2</td>\n",
       "      <td>1</td>\n",
       "    </tr>\n",
       "    <tr>\n",
       "      <th>3</th>\n",
       "      <td>3</td>\n",
       "      <td>0</td>\n",
       "    </tr>\n",
       "    <tr>\n",
       "      <th>4</th>\n",
       "      <td>4</td>\n",
       "      <td>0</td>\n",
       "    </tr>\n",
       "    <tr>\n",
       "      <th>...</th>\n",
       "      <td>...</td>\n",
       "      <td>...</td>\n",
       "    </tr>\n",
       "    <tr>\n",
       "      <th>995</th>\n",
       "      <td>995</td>\n",
       "      <td>1</td>\n",
       "    </tr>\n",
       "    <tr>\n",
       "      <th>996</th>\n",
       "      <td>996</td>\n",
       "      <td>1</td>\n",
       "    </tr>\n",
       "    <tr>\n",
       "      <th>997</th>\n",
       "      <td>997</td>\n",
       "      <td>0</td>\n",
       "    </tr>\n",
       "    <tr>\n",
       "      <th>998</th>\n",
       "      <td>998</td>\n",
       "      <td>1</td>\n",
       "    </tr>\n",
       "    <tr>\n",
       "      <th>999</th>\n",
       "      <td>999</td>\n",
       "      <td>1</td>\n",
       "    </tr>\n",
       "  </tbody>\n",
       "</table>\n",
       "<p>1000 rows × 2 columns</p>\n",
       "</div>"
      ],
      "text/plain": [
       "      id  class\n",
       "0      0      1\n",
       "1      1      0\n",
       "2      2      1\n",
       "3      3      0\n",
       "4      4      0\n",
       "..   ...    ...\n",
       "995  995      1\n",
       "996  996      1\n",
       "997  997      0\n",
       "998  998      1\n",
       "999  999      1\n",
       "\n",
       "[1000 rows x 2 columns]"
      ]
     },
     "execution_count": 47,
     "metadata": {},
     "output_type": "execute_result"
    }
   ],
   "source": [
    "df"
   ]
  },
  {
   "cell_type": "code",
   "execution_count": 48,
   "metadata": {},
   "outputs": [],
   "source": [
    "df.to_csv('data/output_test_pred_svm_dm_under_balance.csv', index=False)"
   ]
  },
  {
   "cell_type": "markdown",
   "metadata": {},
   "source": [
    "### <span style=\"color:red;\">**over sampling - Stacking of three models**</span>"
   ]
  },
  {
   "cell_type": "code",
   "execution_count": null,
   "metadata": {},
   "outputs": [],
   "source": [
    "meta_model = load('svm_meta_model_stacking.joblib')"
   ]
  },
  {
   "cell_type": "code",
   "execution_count": 163,
   "metadata": {},
   "outputs": [
    {
     "data": {
      "text/plain": [
       "(45000, 3)"
      ]
     },
     "execution_count": 163,
     "metadata": {},
     "output_type": "execute_result"
    }
   ],
   "source": [
    "balance_dm = pd.concat([domain1_mod, newdomain2], ignore_index=True)\n",
    "balance_dm.shape"
   ]
  },
  {
   "cell_type": "code",
   "execution_count": 164,
   "metadata": {},
   "outputs": [],
   "source": [
    "train_balance_dm, valid_balance_dm = train_test_split(balance_dm,test_size=0.2,random_state=7) "
   ]
  },
  {
   "cell_type": "code",
   "execution_count": 165,
   "metadata": {},
   "outputs": [
    {
     "name": "stdout",
     "output_type": "stream",
     "text": [
      "training set size (36000, 3)\n",
      "test set size (9000, 3)\n"
     ]
    }
   ],
   "source": [
    "print('training set size {}'.format(train_balance_dm.shape))\n",
    "print('test set size {}' .format(valid_balance_dm.shape))"
   ]
  },
  {
   "cell_type": "code",
   "execution_count": 166,
   "metadata": {},
   "outputs": [
    {
     "data": {
      "text/plain": [
       "(36000, 4989)"
      ]
     },
     "execution_count": 166,
     "metadata": {},
     "output_type": "execute_result"
    }
   ],
   "source": [
    "corpus = [' '.join(str(word_id) for word_id in document) for document in train_balance_dm['text']]\n",
    "\n",
    "train_svm_dm1_vec = svm_dm1_vectorizer.transform(corpus)\n",
    "train_svm_newdm2_vec = svm_newdm2_vectorizer.transform(corpus)\n",
    "train_svm_dm_balance_vec = svm_dm_balance_vectorizer.transform(corpus)\n",
    "\n",
    "train_svm_dm1_X = train_svm_dm1_vec.toarray()\n",
    "train_svm_newdm2_X = train_svm_newdm2_vec.toarray()\n",
    "train_svm_dm_balance_X = train_svm_dm_balance_vec.toarray()"
   ]
  },
  {
   "cell_type": "code",
   "execution_count": 167,
   "metadata": {},
   "outputs": [
    {
     "name": "stdout",
     "output_type": "stream",
     "text": [
      "(36000, 4900) (36000, 4942) (36000, 4989)\n"
     ]
    }
   ],
   "source": [
    "print(train_svm_dm1_X.shape, train_svm_newdm2_X.shape, train_svm_dm_balance_X.shape)"
   ]
  },
  {
   "cell_type": "code",
   "execution_count": 168,
   "metadata": {},
   "outputs": [],
   "source": [
    "corpus = [' '.join(str(word_id) for word_id in document) for document in valid_balance_dm['text']]\n",
    "\n",
    "valid_svm_dm1_vec = svm_dm1_vectorizer.transform(corpus)\n",
    "valid_svm_newdm2_vec = svm_newdm2_vectorizer.transform(corpus)\n",
    "valid_svm_dm_balance_vec = svm_dm_balance_vectorizer.transform(corpus)\n",
    "\n",
    "valid_svm_dm1_X = valid_svm_dm1_vec.toarray()\n",
    "valid_svm_newdm2_X = valid_svm_newdm2_vec.toarray()\n",
    "valid_svm_dm_balance_X = valid_svm_dm_balance_vec.toarray()"
   ]
  },
  {
   "cell_type": "code",
   "execution_count": 169,
   "metadata": {},
   "outputs": [
    {
     "name": "stdout",
     "output_type": "stream",
     "text": [
      "(9000, 4900) (9000, 4942) (9000, 4989)\n"
     ]
    }
   ],
   "source": [
    "print(valid_svm_dm1_X.shape, valid_svm_newdm2_X.shape, valid_svm_dm_balance_X.shape)"
   ]
  },
  {
   "cell_type": "code",
   "execution_count": 170,
   "metadata": {},
   "outputs": [],
   "source": [
    "ptrain_svm_dm1 = svm_dm1.predict(train_svm_dm1_X)\n",
    "ptrain_svm_newdm2 = svm_newdm2.predict(train_svm_newdm2_X)\n",
    "ptrain_svm_dm_balance = svm_dm_balance.predict(train_svm_dm_balance_X)"
   ]
  },
  {
   "cell_type": "code",
   "execution_count": 172,
   "metadata": {},
   "outputs": [],
   "source": [
    "pvalid_svm_dm1 = svm_dm1.predict(valid_svm_dm1_X)\n",
    "pvalid_svm_newdm2 = svm_newdm2.predict(valid_svm_newdm2_X)\n",
    "pvalid_svm_dm_balance = svm_dm_balance.predict(valid_svm_dm_balance_X)"
   ]
  },
  {
   "cell_type": "code",
   "execution_count": 171,
   "metadata": {},
   "outputs": [],
   "source": [
    "from sklearn.linear_model import LogisticRegression\n",
    "from sklearn import metrics\n",
    "from sklearn.linear_model import LogisticRegressionCV\n",
    "from sklearn.model_selection import GridSearchCV\n",
    "from sklearn.linear_model import LinearRegression"
   ]
  },
  {
   "cell_type": "code",
   "execution_count": 173,
   "metadata": {},
   "outputs": [
    {
     "data": {
      "text/html": [
       "<style>#sk-container-id-1 {color: black;}#sk-container-id-1 pre{padding: 0;}#sk-container-id-1 div.sk-toggleable {background-color: white;}#sk-container-id-1 label.sk-toggleable__label {cursor: pointer;display: block;width: 100%;margin-bottom: 0;padding: 0.3em;box-sizing: border-box;text-align: center;}#sk-container-id-1 label.sk-toggleable__label-arrow:before {content: \"▸\";float: left;margin-right: 0.25em;color: #696969;}#sk-container-id-1 label.sk-toggleable__label-arrow:hover:before {color: black;}#sk-container-id-1 div.sk-estimator:hover label.sk-toggleable__label-arrow:before {color: black;}#sk-container-id-1 div.sk-toggleable__content {max-height: 0;max-width: 0;overflow: hidden;text-align: left;background-color: #f0f8ff;}#sk-container-id-1 div.sk-toggleable__content pre {margin: 0.2em;color: black;border-radius: 0.25em;background-color: #f0f8ff;}#sk-container-id-1 input.sk-toggleable__control:checked~div.sk-toggleable__content {max-height: 200px;max-width: 100%;overflow: auto;}#sk-container-id-1 input.sk-toggleable__control:checked~label.sk-toggleable__label-arrow:before {content: \"▾\";}#sk-container-id-1 div.sk-estimator input.sk-toggleable__control:checked~label.sk-toggleable__label {background-color: #d4ebff;}#sk-container-id-1 div.sk-label input.sk-toggleable__control:checked~label.sk-toggleable__label {background-color: #d4ebff;}#sk-container-id-1 input.sk-hidden--visually {border: 0;clip: rect(1px 1px 1px 1px);clip: rect(1px, 1px, 1px, 1px);height: 1px;margin: -1px;overflow: hidden;padding: 0;position: absolute;width: 1px;}#sk-container-id-1 div.sk-estimator {font-family: monospace;background-color: #f0f8ff;border: 1px dotted black;border-radius: 0.25em;box-sizing: border-box;margin-bottom: 0.5em;}#sk-container-id-1 div.sk-estimator:hover {background-color: #d4ebff;}#sk-container-id-1 div.sk-parallel-item::after {content: \"\";width: 100%;border-bottom: 1px solid gray;flex-grow: 1;}#sk-container-id-1 div.sk-label:hover label.sk-toggleable__label {background-color: #d4ebff;}#sk-container-id-1 div.sk-serial::before {content: \"\";position: absolute;border-left: 1px solid gray;box-sizing: border-box;top: 0;bottom: 0;left: 50%;z-index: 0;}#sk-container-id-1 div.sk-serial {display: flex;flex-direction: column;align-items: center;background-color: white;padding-right: 0.2em;padding-left: 0.2em;position: relative;}#sk-container-id-1 div.sk-item {position: relative;z-index: 1;}#sk-container-id-1 div.sk-parallel {display: flex;align-items: stretch;justify-content: center;background-color: white;position: relative;}#sk-container-id-1 div.sk-item::before, #sk-container-id-1 div.sk-parallel-item::before {content: \"\";position: absolute;border-left: 1px solid gray;box-sizing: border-box;top: 0;bottom: 0;left: 50%;z-index: -1;}#sk-container-id-1 div.sk-parallel-item {display: flex;flex-direction: column;z-index: 1;position: relative;background-color: white;}#sk-container-id-1 div.sk-parallel-item:first-child::after {align-self: flex-end;width: 50%;}#sk-container-id-1 div.sk-parallel-item:last-child::after {align-self: flex-start;width: 50%;}#sk-container-id-1 div.sk-parallel-item:only-child::after {width: 0;}#sk-container-id-1 div.sk-dashed-wrapped {border: 1px dashed gray;margin: 0 0.4em 0.5em 0.4em;box-sizing: border-box;padding-bottom: 0.4em;background-color: white;}#sk-container-id-1 div.sk-label label {font-family: monospace;font-weight: bold;display: inline-block;line-height: 1.2em;}#sk-container-id-1 div.sk-label-container {text-align: center;}#sk-container-id-1 div.sk-container {/* jupyter's `normalize.less` sets `[hidden] { display: none; }` but bootstrap.min.css set `[hidden] { display: none !important; }` so we also need the `!important` here to be able to override the default hidden behavior on the sphinx rendered scikit-learn.org. See: https://github.com/scikit-learn/scikit-learn/issues/21755 */display: inline-block !important;position: relative;}#sk-container-id-1 div.sk-text-repr-fallback {display: none;}</style><div id=\"sk-container-id-1\" class=\"sk-top-container\"><div class=\"sk-text-repr-fallback\"><pre>LogisticRegressionCV(cv=20, max_iter=150, random_state=7)</pre><b>In a Jupyter environment, please rerun this cell to show the HTML representation or trust the notebook. <br />On GitHub, the HTML representation is unable to render, please try loading this page with nbviewer.org.</b></div><div class=\"sk-container\" hidden><div class=\"sk-item\"><div class=\"sk-estimator sk-toggleable\"><input class=\"sk-toggleable__control sk-hidden--visually\" id=\"sk-estimator-id-1\" type=\"checkbox\" checked><label for=\"sk-estimator-id-1\" class=\"sk-toggleable__label sk-toggleable__label-arrow\">LogisticRegressionCV</label><div class=\"sk-toggleable__content\"><pre>LogisticRegressionCV(cv=20, max_iter=150, random_state=7)</pre></div></div></div></div></div>"
      ],
      "text/plain": [
       "LogisticRegressionCV(cv=20, max_iter=150, random_state=7)"
      ]
     },
     "execution_count": 173,
     "metadata": {},
     "output_type": "execute_result"
    }
   ],
   "source": [
    "X_train_meta = np.column_stack((ptrain_svm_dm1, ptrain_svm_newdm2, ptrain_svm_dm_balance))\n",
    "\n",
    "# Train the meta-model on the combined feature matrix and the target values\n",
    "meta_model = LogisticRegressionCV(cv = 20, random_state=7, max_iter=150)\n",
    "\n",
    "meta_model.fit(X_train_meta, train_balance_dm['label'])"
   ]
  },
  {
   "cell_type": "code",
   "execution_count": 174,
   "metadata": {},
   "outputs": [],
   "source": [
    "X_val_meta = np.column_stack((pvalid_svm_dm1,pvalid_svm_newdm2,pvalid_svm_dm_balance))\n",
    "\n",
    "y_val_meta = meta_model.predict(X_val_meta)"
   ]
  },
  {
   "cell_type": "code",
   "execution_count": 175,
   "metadata": {},
   "outputs": [],
   "source": [
    "y_val_meta = pd.DataFrame(y_val_meta, columns=['meta'])"
   ]
  },
  {
   "cell_type": "code",
   "execution_count": 176,
   "metadata": {},
   "outputs": [
    {
     "data": {
      "text/plain": [
       "(9000, 3)"
      ]
     },
     "execution_count": 176,
     "metadata": {},
     "output_type": "execute_result"
    }
   ],
   "source": [
    "pred_table = pd.DataFrame({'model1' : np.array(pvalid_svm_dm1),\n",
    "                            'model2' : np.array(pvalid_svm_newdm2),\n",
    "                            'model3' : np.array(pvalid_svm_dm_balance)})\n",
    "pred_table.shape"
   ]
  },
  {
   "cell_type": "code",
   "execution_count": 177,
   "metadata": {},
   "outputs": [],
   "source": [
    "pred_table['stacking'] = y_val_meta['meta'].apply(lambda x: 0 if x < 0.5 else 1)"
   ]
  },
  {
   "cell_type": "code",
   "execution_count": 178,
   "metadata": {},
   "outputs": [
    {
     "data": {
      "text/html": [
       "<div>\n",
       "<style scoped>\n",
       "    .dataframe tbody tr th:only-of-type {\n",
       "        vertical-align: middle;\n",
       "    }\n",
       "\n",
       "    .dataframe tbody tr th {\n",
       "        vertical-align: top;\n",
       "    }\n",
       "\n",
       "    .dataframe thead th {\n",
       "        text-align: right;\n",
       "    }\n",
       "</style>\n",
       "<table border=\"1\" class=\"dataframe\">\n",
       "  <thead>\n",
       "    <tr style=\"text-align: right;\">\n",
       "      <th></th>\n",
       "      <th>model1</th>\n",
       "      <th>model2</th>\n",
       "      <th>model3</th>\n",
       "      <th>stacking</th>\n",
       "    </tr>\n",
       "  </thead>\n",
       "  <tbody>\n",
       "    <tr>\n",
       "      <th>0</th>\n",
       "      <td>0</td>\n",
       "      <td>1</td>\n",
       "      <td>1</td>\n",
       "      <td>1</td>\n",
       "    </tr>\n",
       "    <tr>\n",
       "      <th>1</th>\n",
       "      <td>1</td>\n",
       "      <td>1</td>\n",
       "      <td>1</td>\n",
       "      <td>1</td>\n",
       "    </tr>\n",
       "    <tr>\n",
       "      <th>2</th>\n",
       "      <td>1</td>\n",
       "      <td>0</td>\n",
       "      <td>1</td>\n",
       "      <td>1</td>\n",
       "    </tr>\n",
       "    <tr>\n",
       "      <th>3</th>\n",
       "      <td>0</td>\n",
       "      <td>0</td>\n",
       "      <td>0</td>\n",
       "      <td>0</td>\n",
       "    </tr>\n",
       "    <tr>\n",
       "      <th>4</th>\n",
       "      <td>1</td>\n",
       "      <td>0</td>\n",
       "      <td>0</td>\n",
       "      <td>0</td>\n",
       "    </tr>\n",
       "  </tbody>\n",
       "</table>\n",
       "</div>"
      ],
      "text/plain": [
       "   model1  model2  model3  stacking\n",
       "0       0       1       1         1\n",
       "1       1       1       1         1\n",
       "2       1       0       1         1\n",
       "3       0       0       0         0\n",
       "4       1       0       0         0"
      ]
     },
     "execution_count": 178,
     "metadata": {},
     "output_type": "execute_result"
    }
   ],
   "source": [
    "pred_table.head()"
   ]
  },
  {
   "cell_type": "code",
   "execution_count": 180,
   "metadata": {},
   "outputs": [
    {
     "name": "stdout",
     "output_type": "stream",
     "text": [
      "0.8594886963424242\n"
     ]
    }
   ],
   "source": [
    "print(f1_score(valid_balance_dm['label'], pred_table['stacking'], average='macro'))"
   ]
  },
  {
   "cell_type": "code",
   "execution_count": 192,
   "metadata": {},
   "outputs": [
    {
     "name": "stdout",
     "output_type": "stream",
     "text": [
      "(1000, 4900) (1000, 4942) (1000, 4989)\n"
     ]
    }
   ],
   "source": [
    "# convert the text data into numeric vectors\n",
    "corpus = [' '.join(str(word_id) for word_id in document) for document in test['text']]\n",
    "\n",
    "# learn the token dictionary and return document-term matrix\n",
    "test_svm_dm1_vec = svm_dm1_vectorizer.transform(corpus)\n",
    "test_svm_newdm2_vec = svm_newdm2_vectorizer.transform(corpus)\n",
    "test_svm_dm_balance_vec = svm_dm_balance_vectorizer.transform(corpus)\n",
    "\n",
    "test_svm_dm1_X = test_svm_dm1_vec.toarray()\n",
    "test_svm_newdm2_X = test_svm_newdm2_vec.toarray()\n",
    "test_svm_dm_balance_X = test_svm_dm_balance_vec.toarray()\n",
    "\n",
    "print(test_svm_dm1_X.shape, test_svm_newdm2_X.shape, test_svm_dm_balance_X.shape)"
   ]
  },
  {
   "cell_type": "code",
   "execution_count": 193,
   "metadata": {},
   "outputs": [],
   "source": [
    "ptest_svm_dm1 = svm_dm1.predict(test_svm_dm1_X)\n",
    "ptest_svm_newdm2 = svm_newdm2.predict(test_svm_newdm2_X)\n",
    "ptest_svm_dm_balance = svm_dm_balance.predict(test_svm_dm_balance_X)"
   ]
  },
  {
   "cell_type": "code",
   "execution_count": 194,
   "metadata": {},
   "outputs": [],
   "source": [
    "X_test_meta = np.column_stack((ptest_svm_dm1,ptest_svm_newdm2,ptest_svm_dm_balance))\n",
    "\n",
    "y_test_meta = meta_model.predict(X_test_meta)"
   ]
  },
  {
   "cell_type": "code",
   "execution_count": 195,
   "metadata": {},
   "outputs": [
    {
     "data": {
      "text/plain": [
       "(1000,)"
      ]
     },
     "execution_count": 195,
     "metadata": {},
     "output_type": "execute_result"
    }
   ],
   "source": [
    "ptest_svm_dm1.shape"
   ]
  },
  {
   "cell_type": "code",
   "execution_count": 196,
   "metadata": {},
   "outputs": [],
   "source": [
    "df = pd.DataFrame({'id': range(len(y_test_meta)), 'class': y_test_meta})\n",
    "df.to_csv('data/output_test_svm_meta_modele.csv', index=False)"
   ]
  },
  {
   "cell_type": "code",
   "execution_count": 198,
   "metadata": {},
   "outputs": [
    {
     "data": {
      "text/plain": [
       "['svm_meta_model_stacking.joblib']"
      ]
     },
     "execution_count": 198,
     "metadata": {},
     "output_type": "execute_result"
    }
   ],
   "source": [
    "dump(meta_model, 'svm_meta_model_stacking.joblib')\n",
    "# dump(vectorizer, 'svm_models/svm_dm_merge_vectorizer.joblib')"
   ]
  },
  {
   "cell_type": "markdown",
   "metadata": {},
   "source": [
    "### <span style=\"color:red;\">**under sampling - Stacking of three models**</span>"
   ]
  },
  {
   "cell_type": "code",
   "execution_count": null,
   "metadata": {},
   "outputs": [],
   "source": [
    "meta_under_model = load('C:/Users/dell/Desktop/svm_meta_under_model_stacking.joblib')"
   ]
  },
  {
   "cell_type": "code",
   "execution_count": 49,
   "metadata": {},
   "outputs": [
    {
     "data": {
      "text/plain": [
       "(23799, 3)"
      ]
     },
     "execution_count": 49,
     "metadata": {},
     "output_type": "execute_result"
    }
   ],
   "source": [
    "domain1_mod = domain1.copy()\n",
    "domain1_mod[\"model\"] = 7\n",
    "under_balance_dm = pd.concat([domain1_mod, under_dm2], ignore_index=True)\n",
    "under_balance_dm.shape"
   ]
  },
  {
   "cell_type": "code",
   "execution_count": 50,
   "metadata": {},
   "outputs": [],
   "source": [
    "train_under_balance_dm, valid_under_balance_dm = train_test_split(under_balance_dm,test_size=0.2,random_state=7) "
   ]
  },
  {
   "cell_type": "code",
   "execution_count": 51,
   "metadata": {},
   "outputs": [
    {
     "name": "stdout",
     "output_type": "stream",
     "text": [
      "training set size (19039, 3)\n",
      "test set size (4760, 3)\n"
     ]
    }
   ],
   "source": [
    "print('training set size {}'.format(train_under_balance_dm.shape))\n",
    "print('test set size {}' .format(valid_under_balance_dm.shape))"
   ]
  },
  {
   "cell_type": "code",
   "execution_count": 52,
   "metadata": {},
   "outputs": [],
   "source": [
    "corpus = [' '.join(str(word_id) for word_id in document) for document in train_under_balance_dm['text']]\n",
    "\n",
    "train_svm_dm1_vec = svm_dm1_vectorizer.transform(corpus)\n",
    "train_svm_underdm2_vec = svm_underdm2_vectorizer.transform(corpus)\n",
    "train_svm_dm_under_balance_vec = svm_dm_under_balance_vectorizer.transform(corpus)\n",
    "\n",
    "train_svm_dm1_X = train_svm_dm1_vec.toarray()\n",
    "train_svm_underdm2_X = train_svm_underdm2_vec.toarray()\n",
    "train_svm_dm_under_balance_X = train_svm_dm_under_balance_vec.toarray()"
   ]
  },
  {
   "cell_type": "code",
   "execution_count": 53,
   "metadata": {},
   "outputs": [
    {
     "name": "stdout",
     "output_type": "stream",
     "text": [
      "(19039, 4900) (19039, 4904) (19039, 4984)\n"
     ]
    }
   ],
   "source": [
    "print(train_svm_dm1_X.shape, train_svm_underdm2_X.shape, train_svm_dm_under_balance_X.shape)"
   ]
  },
  {
   "cell_type": "code",
   "execution_count": 54,
   "metadata": {},
   "outputs": [],
   "source": [
    "corpus = [' '.join(str(word_id) for word_id in document) for document in valid_under_balance_dm['text']]\n",
    "\n",
    "valid_svm_dm1_vec = svm_dm1_vectorizer.transform(corpus)\n",
    "valid_svm_underdm2_vec = svm_underdm2_vectorizer.transform(corpus)\n",
    "valid_svm_dm_under_balance_vec = svm_dm_under_balance_vectorizer.transform(corpus)\n",
    "\n",
    "valid_svm_dm1_X = valid_svm_dm1_vec.toarray()\n",
    "valid_svm_underdm2_X = valid_svm_underdm2_vec.toarray()\n",
    "valid_svm_dm_under_balance_X = valid_svm_dm_under_balance_vec.toarray()"
   ]
  },
  {
   "cell_type": "code",
   "execution_count": 55,
   "metadata": {},
   "outputs": [
    {
     "name": "stdout",
     "output_type": "stream",
     "text": [
      "(4760, 4900) (4760, 4904) (4760, 4984)\n"
     ]
    }
   ],
   "source": [
    "print(valid_svm_dm1_X.shape, valid_svm_underdm2_X.shape, valid_svm_dm_under_balance_X.shape)"
   ]
  },
  {
   "cell_type": "code",
   "execution_count": 57,
   "metadata": {},
   "outputs": [],
   "source": [
    "ptrain_svm_dm1 = svm_dm1.predict(train_svm_dm1_X)\n",
    "ptrain_svm_underdm2 = svm_underdm2.predict(train_svm_underdm2_X)\n",
    "ptrain_svm_dm_under_balance = svm_dm_under_balance.predict(train_svm_dm_under_balance_X)"
   ]
  },
  {
   "cell_type": "code",
   "execution_count": 59,
   "metadata": {},
   "outputs": [],
   "source": [
    "pvalid_svm_dm1 = svm_dm1.predict(valid_svm_dm1_X)\n",
    "pvalid_svm_underdm2 = svm_underdm2.predict(valid_svm_underdm2_X)\n",
    "pvalid_svm_dm_under_balance = svm_dm_under_balance.predict(valid_svm_dm_under_balance_X)"
   ]
  },
  {
   "cell_type": "code",
   "execution_count": 60,
   "metadata": {},
   "outputs": [],
   "source": [
    "from sklearn.linear_model import LogisticRegression\n",
    "from sklearn import metrics\n",
    "from sklearn.linear_model import LogisticRegressionCV\n",
    "from sklearn.model_selection import GridSearchCV\n",
    "from sklearn.linear_model import LinearRegression"
   ]
  },
  {
   "cell_type": "code",
   "execution_count": 61,
   "metadata": {},
   "outputs": [
    {
     "data": {
      "text/html": [
       "<style>#sk-container-id-1 {color: black;}#sk-container-id-1 pre{padding: 0;}#sk-container-id-1 div.sk-toggleable {background-color: white;}#sk-container-id-1 label.sk-toggleable__label {cursor: pointer;display: block;width: 100%;margin-bottom: 0;padding: 0.3em;box-sizing: border-box;text-align: center;}#sk-container-id-1 label.sk-toggleable__label-arrow:before {content: \"▸\";float: left;margin-right: 0.25em;color: #696969;}#sk-container-id-1 label.sk-toggleable__label-arrow:hover:before {color: black;}#sk-container-id-1 div.sk-estimator:hover label.sk-toggleable__label-arrow:before {color: black;}#sk-container-id-1 div.sk-toggleable__content {max-height: 0;max-width: 0;overflow: hidden;text-align: left;background-color: #f0f8ff;}#sk-container-id-1 div.sk-toggleable__content pre {margin: 0.2em;color: black;border-radius: 0.25em;background-color: #f0f8ff;}#sk-container-id-1 input.sk-toggleable__control:checked~div.sk-toggleable__content {max-height: 200px;max-width: 100%;overflow: auto;}#sk-container-id-1 input.sk-toggleable__control:checked~label.sk-toggleable__label-arrow:before {content: \"▾\";}#sk-container-id-1 div.sk-estimator input.sk-toggleable__control:checked~label.sk-toggleable__label {background-color: #d4ebff;}#sk-container-id-1 div.sk-label input.sk-toggleable__control:checked~label.sk-toggleable__label {background-color: #d4ebff;}#sk-container-id-1 input.sk-hidden--visually {border: 0;clip: rect(1px 1px 1px 1px);clip: rect(1px, 1px, 1px, 1px);height: 1px;margin: -1px;overflow: hidden;padding: 0;position: absolute;width: 1px;}#sk-container-id-1 div.sk-estimator {font-family: monospace;background-color: #f0f8ff;border: 1px dotted black;border-radius: 0.25em;box-sizing: border-box;margin-bottom: 0.5em;}#sk-container-id-1 div.sk-estimator:hover {background-color: #d4ebff;}#sk-container-id-1 div.sk-parallel-item::after {content: \"\";width: 100%;border-bottom: 1px solid gray;flex-grow: 1;}#sk-container-id-1 div.sk-label:hover label.sk-toggleable__label {background-color: #d4ebff;}#sk-container-id-1 div.sk-serial::before {content: \"\";position: absolute;border-left: 1px solid gray;box-sizing: border-box;top: 0;bottom: 0;left: 50%;z-index: 0;}#sk-container-id-1 div.sk-serial {display: flex;flex-direction: column;align-items: center;background-color: white;padding-right: 0.2em;padding-left: 0.2em;position: relative;}#sk-container-id-1 div.sk-item {position: relative;z-index: 1;}#sk-container-id-1 div.sk-parallel {display: flex;align-items: stretch;justify-content: center;background-color: white;position: relative;}#sk-container-id-1 div.sk-item::before, #sk-container-id-1 div.sk-parallel-item::before {content: \"\";position: absolute;border-left: 1px solid gray;box-sizing: border-box;top: 0;bottom: 0;left: 50%;z-index: -1;}#sk-container-id-1 div.sk-parallel-item {display: flex;flex-direction: column;z-index: 1;position: relative;background-color: white;}#sk-container-id-1 div.sk-parallel-item:first-child::after {align-self: flex-end;width: 50%;}#sk-container-id-1 div.sk-parallel-item:last-child::after {align-self: flex-start;width: 50%;}#sk-container-id-1 div.sk-parallel-item:only-child::after {width: 0;}#sk-container-id-1 div.sk-dashed-wrapped {border: 1px dashed gray;margin: 0 0.4em 0.5em 0.4em;box-sizing: border-box;padding-bottom: 0.4em;background-color: white;}#sk-container-id-1 div.sk-label label {font-family: monospace;font-weight: bold;display: inline-block;line-height: 1.2em;}#sk-container-id-1 div.sk-label-container {text-align: center;}#sk-container-id-1 div.sk-container {/* jupyter's `normalize.less` sets `[hidden] { display: none; }` but bootstrap.min.css set `[hidden] { display: none !important; }` so we also need the `!important` here to be able to override the default hidden behavior on the sphinx rendered scikit-learn.org. See: https://github.com/scikit-learn/scikit-learn/issues/21755 */display: inline-block !important;position: relative;}#sk-container-id-1 div.sk-text-repr-fallback {display: none;}</style><div id=\"sk-container-id-1\" class=\"sk-top-container\"><div class=\"sk-text-repr-fallback\"><pre>LogisticRegressionCV(cv=20, max_iter=150, random_state=7)</pre><b>In a Jupyter environment, please rerun this cell to show the HTML representation or trust the notebook. <br />On GitHub, the HTML representation is unable to render, please try loading this page with nbviewer.org.</b></div><div class=\"sk-container\" hidden><div class=\"sk-item\"><div class=\"sk-estimator sk-toggleable\"><input class=\"sk-toggleable__control sk-hidden--visually\" id=\"sk-estimator-id-1\" type=\"checkbox\" checked><label for=\"sk-estimator-id-1\" class=\"sk-toggleable__label sk-toggleable__label-arrow\">LogisticRegressionCV</label><div class=\"sk-toggleable__content\"><pre>LogisticRegressionCV(cv=20, max_iter=150, random_state=7)</pre></div></div></div></div></div>"
      ],
      "text/plain": [
       "LogisticRegressionCV(cv=20, max_iter=150, random_state=7)"
      ]
     },
     "execution_count": 61,
     "metadata": {},
     "output_type": "execute_result"
    }
   ],
   "source": [
    "X_train_meta = np.column_stack((ptrain_svm_dm1, ptrain_svm_underdm2, ptrain_svm_dm_under_balance))\n",
    "\n",
    "# Train the meta-model on the combined feature matrix and the target values\n",
    "meta_under_model = LogisticRegressionCV(cv = 20, random_state=7, max_iter=150)\n",
    "\n",
    "meta_under_model.fit(X_train_meta, train_under_balance_dm['label'])"
   ]
  },
  {
   "cell_type": "code",
   "execution_count": 62,
   "metadata": {},
   "outputs": [],
   "source": [
    "X_val_meta = np.column_stack((pvalid_svm_dm1,pvalid_svm_underdm2,pvalid_svm_dm_under_balance))\n",
    "\n",
    "y_val_meta = meta_under_model.predict(X_val_meta)"
   ]
  },
  {
   "cell_type": "code",
   "execution_count": 63,
   "metadata": {},
   "outputs": [],
   "source": [
    "y_val_meta = pd.DataFrame(y_val_meta, columns=['meta'])"
   ]
  },
  {
   "cell_type": "code",
   "execution_count": 64,
   "metadata": {},
   "outputs": [
    {
     "data": {
      "text/plain": [
       "(4760, 3)"
      ]
     },
     "execution_count": 64,
     "metadata": {},
     "output_type": "execute_result"
    }
   ],
   "source": [
    "pred_table = pd.DataFrame({'model1' : np.array(pvalid_svm_dm1),\n",
    "                            'model2' : np.array(pvalid_svm_underdm2),\n",
    "                            'model3' : np.array(pvalid_svm_dm_under_balance)})\n",
    "pred_table.shape"
   ]
  },
  {
   "cell_type": "code",
   "execution_count": 65,
   "metadata": {},
   "outputs": [],
   "source": [
    "pred_table['stacking'] = y_val_meta['meta'].apply(lambda x: 0 if x < 0.5 else 1)"
   ]
  },
  {
   "cell_type": "code",
   "execution_count": 66,
   "metadata": {},
   "outputs": [
    {
     "data": {
      "text/html": [
       "<div>\n",
       "<style scoped>\n",
       "    .dataframe tbody tr th:only-of-type {\n",
       "        vertical-align: middle;\n",
       "    }\n",
       "\n",
       "    .dataframe tbody tr th {\n",
       "        vertical-align: top;\n",
       "    }\n",
       "\n",
       "    .dataframe thead th {\n",
       "        text-align: right;\n",
       "    }\n",
       "</style>\n",
       "<table border=\"1\" class=\"dataframe\">\n",
       "  <thead>\n",
       "    <tr style=\"text-align: right;\">\n",
       "      <th></th>\n",
       "      <th>model1</th>\n",
       "      <th>model2</th>\n",
       "      <th>model3</th>\n",
       "      <th>stacking</th>\n",
       "    </tr>\n",
       "  </thead>\n",
       "  <tbody>\n",
       "    <tr>\n",
       "      <th>0</th>\n",
       "      <td>1</td>\n",
       "      <td>0</td>\n",
       "      <td>1</td>\n",
       "      <td>1</td>\n",
       "    </tr>\n",
       "    <tr>\n",
       "      <th>1</th>\n",
       "      <td>0</td>\n",
       "      <td>0</td>\n",
       "      <td>0</td>\n",
       "      <td>0</td>\n",
       "    </tr>\n",
       "    <tr>\n",
       "      <th>2</th>\n",
       "      <td>0</td>\n",
       "      <td>0</td>\n",
       "      <td>1</td>\n",
       "      <td>0</td>\n",
       "    </tr>\n",
       "    <tr>\n",
       "      <th>3</th>\n",
       "      <td>0</td>\n",
       "      <td>0</td>\n",
       "      <td>0</td>\n",
       "      <td>0</td>\n",
       "    </tr>\n",
       "    <tr>\n",
       "      <th>4</th>\n",
       "      <td>0</td>\n",
       "      <td>1</td>\n",
       "      <td>1</td>\n",
       "      <td>1</td>\n",
       "    </tr>\n",
       "  </tbody>\n",
       "</table>\n",
       "</div>"
      ],
      "text/plain": [
       "   model1  model2  model3  stacking\n",
       "0       1       0       1         1\n",
       "1       0       0       0         0\n",
       "2       0       0       1         0\n",
       "3       0       0       0         0\n",
       "4       0       1       1         1"
      ]
     },
     "execution_count": 66,
     "metadata": {},
     "output_type": "execute_result"
    }
   ],
   "source": [
    "pred_table.head()"
   ]
  },
  {
   "cell_type": "code",
   "execution_count": null,
   "metadata": {},
   "outputs": [],
   "source": [
    "# train_score = svm_dm_under_balance.score(train_under_balance_Xs, train_under_balance_dm['label'])\n",
    "valid_score = svm_dm_under_balance.score(X_val_meta, valid_under_balance_dm['label'])\n",
    "\n",
    "# print(\"SVM training score: {}\".format(train_score))\n",
    "print(\"SVM valid score: {}\".format(valid_score))"
   ]
  },
  {
   "cell_type": "code",
   "execution_count": 69,
   "metadata": {},
   "outputs": [
    {
     "data": {
      "text/plain": [
       "<sklearn.metrics._plot.confusion_matrix.ConfusionMatrixDisplay at 0x1323b312750>"
      ]
     },
     "execution_count": 69,
     "metadata": {},
     "output_type": "execute_result"
    },
    {
     "data": {
      "image/png": "[encoded data removed]",
      "text/plain": [
       "<Figure size 640x480 with 2 Axes>"
      ]
     },
     "metadata": {},
     "output_type": "display_data"
    }
   ],
   "source": [
    "from sklearn import metrics\n",
    "cm_dm1 = metrics.ConfusionMatrixDisplay(confusion_matrix=confusion_matrix(valid_under_balance_dm['label'], y_val_meta), display_labels=meta_under_model.classes_)\n",
    "cm_dm1.plot()"
   ]
  },
  {
   "cell_type": "code",
   "execution_count": 70,
   "metadata": {},
   "outputs": [
    {
     "name": "stdout",
     "output_type": "stream",
     "text": [
      "0.8947158877264383\n"
     ]
    }
   ],
   "source": [
    "print(f1_score(valid_under_balance_dm['label'], pred_table['stacking'], average='macro'))"
   ]
  },
  {
   "cell_type": "code",
   "execution_count": 71,
   "metadata": {},
   "outputs": [
    {
     "name": "stdout",
     "output_type": "stream",
     "text": [
      "(1000, 4900) (1000, 4904) (1000, 4984)\n"
     ]
    }
   ],
   "source": [
    "# convert the text data into numeric vectors\n",
    "corpus = [' '.join(str(word_id) for word_id in document) for document in test['text']]\n",
    "\n",
    "# learn the token dictionary and return document-term matrix\n",
    "test_svm_dm1_vec = svm_dm1_vectorizer.transform(corpus)\n",
    "test_svm_underdm2_vec = svm_underdm2_vectorizer.transform(corpus)\n",
    "test_svm_dm_under_balance_vec = svm_dm_under_balance_vectorizer.transform(corpus)\n",
    "\n",
    "test_svm_dm1_X = test_svm_dm1_vec.toarray()\n",
    "test_svm_underdm2_X = test_svm_underdm2_vec.toarray()\n",
    "test_svm_dm_under_balance_X = test_svm_dm_under_balance_vec.toarray()\n",
    "\n",
    "print(test_svm_dm1_X.shape, test_svm_underdm2_X.shape, test_svm_dm_under_balance_X.shape)"
   ]
  },
  {
   "cell_type": "code",
   "execution_count": 72,
   "metadata": {},
   "outputs": [],
   "source": [
    "ptest_svm_dm1 = svm_dm1.predict(test_svm_dm1_X)\n",
    "ptest_svm_underdm2 = svm_underdm2.predict(test_svm_underdm2_X)\n",
    "ptest_svm_dm_under_balance = svm_dm_under_balance.predict(test_svm_dm_under_balance_X)"
   ]
  },
  {
   "cell_type": "code",
   "execution_count": 73,
   "metadata": {},
   "outputs": [],
   "source": [
    "X_test_meta = np.column_stack((ptest_svm_dm1,ptest_svm_underdm2,ptest_svm_dm_under_balance))\n",
    "\n",
    "y_test_meta = meta_under_model.predict(X_test_meta)"
   ]
  },
  {
   "cell_type": "code",
   "execution_count": 74,
   "metadata": {},
   "outputs": [],
   "source": [
    "df = pd.DataFrame({'id': range(len(y_test_meta)), 'class': y_test_meta})\n",
    "df.to_csv('data/output_test_svm_meta_under_modele.csv', index=False)"
   ]
  },
  {
   "cell_type": "code",
   "execution_count": 75,
   "metadata": {},
   "outputs": [
    {
     "data": {
      "text/plain": [
       "['C:/Users/dell/Desktop/svm_meta_under_model_stacking.joblib']"
      ]
     },
     "execution_count": 75,
     "metadata": {},
     "output_type": "execute_result"
    }
   ],
   "source": [
    "dump(meta_under_model, 'C:/Users/dell/Desktop/svm_meta_under_model_stacking.joblib')\n",
    "# dump(vectorizer, 'svm_models/svm_dm_merge_vectorizer.joblib')"
   ]
  }
 ],
 "metadata": {
  "kernelspec": {
   "display_name": "Python 3",
   "language": "python",
   "name": "python3"
  },
  "language_info": {
   "codemirror_mode": {
    "name": "ipython",
    "version": 3
   },
   "file_extension": ".py",
   "mimetype": "text/x-python",
   "name": "python",
   "nbconvert_exporter": "python",
   "pygments_lexer": "ipython3",
   "version": "3.11.3"
  },
  "orig_nbformat": 4
 },
 "nbformat": 4,
 "nbformat_minor": 2
}
